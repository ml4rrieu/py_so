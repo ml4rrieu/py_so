{
 "cells": [
  {
   "cell_type": "markdown",
   "id": "976d4c12",
   "metadata": {},
   "source": [
    "# Représenter l'évolution et les types de dépôts dans HAL d'une structure"
   ]
  },
  {
   "cell_type": "markdown",
   "id": "ac389c96",
   "metadata": {},
   "source": [
    "- extraire depuis HAL le nombre de publications d'une année d'une structure\n",
    "- créer une fonction avec en argument l'année\n",
    "- créer une boucle pour récupérer les données depuis l'API de HAL\n",
    "- placer les données dans un dictionnaire\n",
    "- le transformer en une dataframe (attention a `pd.DataFrame({\"col\":[data1, data2], \"col2\":[0, 1, 2, 3]})` )\n",
    "- faire une représentation en histogramme\n",
    "- reprendre l'exercice en intrégrant le type de dépot (file/notice) dans la fonction\n",
    "- créer une variable `structId` pour générer le graph. sur n'importe qu'elle structure\n"
   ]
  },
  {
   "cell_type": "code",
   "execution_count": 2,
   "id": "c08252bc",
   "metadata": {},
   "outputs": [],
   "source": [
    "import pandas as pd, json, requests"
   ]
  },
  {
   "cell_type": "code",
   "execution_count": 3,
   "id": "671be099",
   "metadata": {},
   "outputs": [
    {
     "data": {
      "text/plain": [
       "2802"
      ]
     },
     "execution_count": 3,
     "metadata": {},
     "output_type": "execute_result"
    }
   ],
   "source": [
    "req = requests.get(f\"https://api.archives-ouvertes.fr/search/?q=structId_i:116256&fq=publicationDateY_i:2020&rows=0\")\n",
    "req = req.json()\n",
    "num = req['response']['numFound']\n",
    "num"
   ]
  },
  {
   "cell_type": "code",
   "execution_count": 4,
   "id": "c0de82a9",
   "metadata": {},
   "outputs": [],
   "source": [
    "def req_hal(year, subtype) :\n",
    "    \"\"\"nombre de publication pour telle année pour tel type de dépôt\"\"\"\n",
    "    req = requests.get(f\"https://api.archives-ouvertes.fr/search/?q=structId_i:116256&fq=publicationDateY_i:{year}&fq=submitType_s:{subtype}&rows=0\")\n",
    "    req = req.json()\n",
    "    num = req['response']['numFound']\n",
    "    return num"
   ]
  },
  {
   "cell_type": "code",
   "execution_count": 5,
   "id": "b45e752b",
   "metadata": {},
   "outputs": [
    {
     "data": {
      "text/plain": [
       "1854"
      ]
     },
     "execution_count": 5,
     "metadata": {},
     "output_type": "execute_result"
    }
   ],
   "source": [
    "req_hal(2019, \"notice\")"
   ]
  },
  {
   "cell_type": "code",
   "execution_count": 6,
   "id": "d1b550e7",
   "metadata": {},
   "outputs": [
    {
     "data": {
      "text/plain": [
       "{2016: {'file': 1978, 'notice': 1853},\n",
       " 2017: {'file': 2130, 'notice': 1891},\n",
       " 2018: {'file': 2050, 'notice': 2077},\n",
       " 2019: {'file': 1967, 'notice': 1854},\n",
       " 2020: {'file': 1602, 'notice': 1171},\n",
       " 2021: {'file': 1487, 'notice': 1057}}"
      ]
     },
     "execution_count": 6,
     "metadata": {},
     "output_type": "execute_result"
    }
   ],
   "source": [
    "data = {}\n",
    "subtypes = [\"file\", \"notice\"]\n",
    "for year in range(2016, 2022):\n",
    "    data[year] = {}\n",
    "    for st in subtypes : \n",
    "        num = req_hal(year, st)\n",
    "        data[year][st] = num\n",
    "        \n",
    "data"
   ]
  },
  {
   "cell_type": "code",
   "execution_count": 7,
   "id": "c11df341",
   "metadata": {},
   "outputs": [
    {
     "data": {
      "text/html": [
       "<div>\n",
       "<style scoped>\n",
       "    .dataframe tbody tr th:only-of-type {\n",
       "        vertical-align: middle;\n",
       "    }\n",
       "\n",
       "    .dataframe tbody tr th {\n",
       "        vertical-align: top;\n",
       "    }\n",
       "\n",
       "    .dataframe thead th {\n",
       "        text-align: right;\n",
       "    }\n",
       "</style>\n",
       "<table border=\"1\" class=\"dataframe\">\n",
       "  <thead>\n",
       "    <tr style=\"text-align: right;\">\n",
       "      <th></th>\n",
       "      <th>file</th>\n",
       "      <th>notice</th>\n",
       "    </tr>\n",
       "  </thead>\n",
       "  <tbody>\n",
       "    <tr>\n",
       "      <th>2016</th>\n",
       "      <td>1978</td>\n",
       "      <td>1853</td>\n",
       "    </tr>\n",
       "    <tr>\n",
       "      <th>2017</th>\n",
       "      <td>2130</td>\n",
       "      <td>1891</td>\n",
       "    </tr>\n",
       "    <tr>\n",
       "      <th>2018</th>\n",
       "      <td>2050</td>\n",
       "      <td>2077</td>\n",
       "    </tr>\n",
       "    <tr>\n",
       "      <th>2019</th>\n",
       "      <td>1967</td>\n",
       "      <td>1854</td>\n",
       "    </tr>\n",
       "    <tr>\n",
       "      <th>2020</th>\n",
       "      <td>1602</td>\n",
       "      <td>1171</td>\n",
       "    </tr>\n",
       "    <tr>\n",
       "      <th>2021</th>\n",
       "      <td>1487</td>\n",
       "      <td>1057</td>\n",
       "    </tr>\n",
       "  </tbody>\n",
       "</table>\n",
       "</div>"
      ],
      "text/plain": [
       "      file  notice\n",
       "2016  1978    1853\n",
       "2017  2130    1891\n",
       "2018  2050    2077\n",
       "2019  1967    1854\n",
       "2020  1602    1171\n",
       "2021  1487    1057"
      ]
     },
     "execution_count": 7,
     "metadata": {},
     "output_type": "execute_result"
    }
   ],
   "source": [
    "df = pd.DataFrame.from_dict(data)\n",
    "df = df.T # pour inverser colonnes et lignes\n",
    "df"
   ]
  },
  {
   "cell_type": "code",
   "execution_count": 8,
   "id": "3a72496c",
   "metadata": {},
   "outputs": [
    {
     "data": {
      "text/plain": [
       "<AxesSubplot:>"
      ]
     },
     "execution_count": 8,
     "metadata": {},
     "output_type": "execute_result"
    },
    {
     "data": {
      "image/png": "[encoded data removed]",
      "text/plain": [
       "<Figure size 432x288 with 1 Axes>"
      ]
     },
     "metadata": {
      "needs_background": "light"
     },
     "output_type": "display_data"
    }
   ],
   "source": [
    "df.plot.bar(stacked = True)"
   ]
  },
  {
   "cell_type": "code",
   "execution_count": null,
   "id": "391db0a8",
   "metadata": {},
   "outputs": [],
   "source": []
  }
 ],
 "metadata": {
  "kernelspec": {
   "display_name": "Python 3 (ipykernel)",
   "language": "python",
   "name": "python3"
  },
  "language_info": {
   "codemirror_mode": {
    "name": "ipython",
    "version": 3
   },
   "file_extension": ".py",
   "mimetype": "text/x-python",
   "name": "python",
   "nbconvert_exporter": "python",
   "pygments_lexer": "ipython3",
   "version": "3.11.5"
  }
 },
 "nbformat": 4,
 "nbformat_minor": 5
}
