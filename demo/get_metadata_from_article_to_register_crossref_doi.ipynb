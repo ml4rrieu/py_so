{
 "cells": [
  {
   "cell_type": "markdown",
   "id": "c79720a5",
   "metadata": {},
   "source": [
    "# Récupérer les métadonnées d'un article pour enregistrer son DOI chez Crossref"
   ]
  },
  {
   "cell_type": "markdown",
   "id": "20aa6d88",
   "metadata": {},
   "source": [
    "Contexte : un article de revue est publié et on souhaite enregistrer son DOI chez CrossRef. Le script python récupère les métadonnées de l'article publié, les ré-organise de sorte à former un fichier XML conforme au schéma CrossRef afin de pouvoir enregistrer le DOI de l'article. Les métadonnées récupérées sont : titre, auteurs, année, DOI, résumé et références biblio. Le fichier XML est ensuite à charger dans [doi.crossref.org](https://doi.crossref.org)\n",
    "\n",
    "Script utilisé avec des articles publiés par Lodel 1.0 <br /> \n",
    "2024-08, Maxence Larrieu"
   ]
  },
  {
   "cell_type": "code",
   "execution_count": 1,
   "id": "07162b21",
   "metadata": {},
   "outputs": [],
   "source": [
    "import requests\n",
    "from  bs4 import BeautifulSoup"
   ]
  },
  {
   "cell_type": "code",
   "execution_count": 2,
   "id": "019b81af",
   "metadata": {},
   "outputs": [],
   "source": [
    "## renseigner l'URL de l'article dont il faut enregistrer le DOI\n",
    "lien_article = \"https://revues.mshparisnord.fr/rfim/index.php?id=746\""
   ]
  },
  {
   "cell_type": "markdown",
   "id": "c6aa9b05",
   "metadata": {},
   "source": [
    "## 1.  Récupérer les métadonnées depuis la page d'un l'article"
   ]
  },
  {
   "cell_type": "code",
   "execution_count": 3,
   "id": "692c6e78",
   "metadata": {},
   "outputs": [],
   "source": [
    "## un dictionnaire pour coller les métadonnées\n",
    "article_md = {}"
   ]
  },
  {
   "cell_type": "code",
   "execution_count": 4,
   "id": "17718c32",
   "metadata": {},
   "outputs": [],
   "source": [
    "# Entête de la requête\n",
    "entete = {\n",
    "    \"User-Agent\": \"Mozilla/5.0 (Windows NT 10.0; Win64; x64) AppleWebKit/537.36 (KHTML, like Gecko) Chrome/89.0.4389.82 Safari/537.36\"\n",
    "}"
   ]
  },
  {
   "cell_type": "code",
   "execution_count": 5,
   "id": "44b96f24",
   "metadata": {},
   "outputs": [],
   "source": [
    "## recueillir toutes les données de la page\n",
    "response = requests.get(lien_article, headers=entete)\n",
    "\n",
    "## les placer dans Beautiful soup\n",
    "soup = BeautifulSoup(response.content, \"html.parser\")"
   ]
  },
  {
   "cell_type": "markdown",
   "id": "b2f3bd3e",
   "metadata": {},
   "source": [
    "### Récupérer les métadonnées à récupérer"
   ]
  },
  {
   "cell_type": "code",
   "execution_count": 6,
   "id": "bbed92a1",
   "metadata": {},
   "outputs": [],
   "source": [
    "# Titre de l'article\n",
    "article_md[\"title\"] = soup.find(\"title\").text.strip()"
   ]
  },
  {
   "cell_type": "code",
   "execution_count": 7,
   "id": "e5f0cec9",
   "metadata": {},
   "outputs": [],
   "source": [
    "## récupérer tous les auteurs\n",
    "auth_list = soup.find_all(\"meta\", {\"name\": \"author\"})\n",
    "auths = {}\n",
    "\n",
    "## passer la liste au niveau unitaire\n",
    "idx = 0\n",
    "for item in auth_list :\n",
    "    full_name = item.get(\"content\").strip()\n",
    "    auths[idx] = {}\n",
    "    auths[idx][\"given_name\"] = full_name[ full_name.index(\",\") +2 :]\n",
    "    auths[idx][\"surname\"] = full_name[ : full_name.index(\",\")]\n",
    "    idx += 1\n",
    "\n",
    "article_md[\"auths\"] = auths"
   ]
  },
  {
   "cell_type": "code",
   "execution_count": 8,
   "id": "ac276e82",
   "metadata": {},
   "outputs": [],
   "source": [
    "## abstract\n",
    "article_md[\"abstract\"] = soup.find(\"meta\", {\"name\" : \"DC.Description\"}).get(\"content\")"
   ]
  },
  {
   "cell_type": "code",
   "execution_count": 9,
   "id": "69011394",
   "metadata": {},
   "outputs": [],
   "source": [
    "## date\n",
    "full_date = soup.find(\"div\", {\"id\" : \"date\"}).text\n",
    "article_md[\"date\"] = full_date.split(\" \")[1]\n",
    "if not article_md[\"date\"].isnumeric() : \n",
    "    print(\"//!\\\\ probleme when getting date\")\n",
    "    quit()"
   ]
  },
  {
   "cell_type": "code",
   "execution_count": 10,
   "id": "3ead1425",
   "metadata": {},
   "outputs": [],
   "source": [
    "## doi\n",
    "doi_raw = soup.find(\"p\", {\"class\" : \"article__doi\"}).text\n",
    "doi_raw.split(\" \")[1]\n",
    "article_md[\"doi\"] = doi_raw[ doi_raw.index(\"doi.org/\") + 8 :]\n"
   ]
  },
  {
   "cell_type": "code",
   "execution_count": 11,
   "id": "4bd8f835",
   "metadata": {},
   "outputs": [
    {
     "name": "stdout",
     "output_type": "stream",
     "text": [
      "title \t Une station de travail audio-numérique open-source pour la plate-forme Web \n",
      "\n",
      "auths \t {0: {'given_name': 'Michel', 'surname': 'Buffa'}, 1: {'given_name': 'Antoine', 'surname': 'Vidal-Mazuy'}} \n",
      "\n",
      "abstract \t Cet article présente WAM Studio (Figure 1), une station de travail audio numérique (DAW) en ligne open source qui tire parti de plusieurs APIs et technologies standards du W3C, telles que Web Audio, WebAssembly, Web Components, Web Midi, Media Devices, etc. WAM Studio s’appuie également sur le standard Web Audio Modules (WAM), qui a été conçu pour faciliter le développement de plugins audio inter-opérables (effets, instruments virtuels, claviers virtuels de piano comme contrôleurs, etc.) sortes de \"VSTs pour le Web\". Les DAWs sont des logiciels riches en fonctionnalités et donc particulièrement complexes à développer en termes de conception, d’implémentation, de performances et d’ergonomie. Aujourd’hui, la majorité des DAWs en ligne sont commerciaux alors que les seuls exemples open source manquent de fonctionnalités (pas de prise en charge de plugins par exemple) et ne tirent pas parti des possibilités récentes offertes (comme WebAssembly). WAM Studio a été conçu comme un démonstrateur technologique pour promouvoir les possibilités offertes par les innovations récentes proposées par le W3C. L’article met en évidence certaines des difficultés que nous avons rencontrées (par exemple, les limitations dues aux environnements sandboxés et contraints que sont les navigateurs Web, la compensation de latence quand on ne peut pas connaître le hardware utilisé, etc.). Une démonstration en ligne, ainsi qu’un repository GitHub pour le code source sont disponibles. Wam Studio a également donné naissance à Attune, une version spéciale adaptée pour un projet de recherche en collaboration avec l’équipe MERI du CCRMA de Stanford, pour l’étude et la facilitation de l’écoute de musique multipiste par des personnes malentendantes équipées d’implants cochléaires.  \n",
      "\n",
      "date \t 2024 \n",
      "\n",
      "doi \t 10.56698/rfim.746 \n",
      "\n"
     ]
    }
   ],
   "source": [
    "## print article metadatas\n",
    "for item in article_md : \n",
    "    print(item, \"\\t\", article_md[item], \"\\n\")"
   ]
  },
  {
   "cell_type": "code",
   "execution_count": 12,
   "id": "ebe04a6d",
   "metadata": {},
   "outputs": [
    {
     "data": {
      "text/plain": [
       "['Michel Buffa, Shihong Ren, Tom Burns, Antoine Vidal-Mazuy, Stéphane Letz. Evolution of the Web Audio Module Ecosystem. Submitted to the Web Audio Conference 2024, Purdue University, Lafayette, USA, 2024. https://inria.hal.science/hal-04507622/',\n",
       " 'Buffa M, Vidal-Mazuy A, May L, Winckler M. Wam Studio: A Web-Based Digital Audio Workstation to Empower Cochlear Implant Users. In IFIP Conference on Human-Computer Interaction 2023 Aug 25 (pp.\\xa0101-110). Cham: Springer Nature Switzerland. https://inria.hal.science/hal-04233343/']"
      ]
     },
     "execution_count": 12,
     "metadata": {},
     "output_type": "execute_result"
    }
   ],
   "source": [
    "## extra : get biblio\n",
    "biblio_raw = soup.find_all(\"p\", {\"class\" : \"bibliographie\"})\n",
    "biblio = []\n",
    "for item in biblio_raw : \n",
    "    biblio.append(item.get_text())\n",
    "\n",
    "biblio[:2]"
   ]
  },
  {
   "cell_type": "markdown",
   "id": "fd4ae39e",
   "metadata": {},
   "source": [
    "## Load local XML and parse article metadatas"
   ]
  },
  {
   "cell_type": "code",
   "execution_count": 13,
   "id": "019cf19f",
   "metadata": {},
   "outputs": [
    {
     "name": "stderr",
     "output_type": "stream",
     "text": [
      "C:\\Users\\Maxence LARRIEU\\AppData\\Local\\Programs\\Python\\Python312\\Lib\\site-packages\\bs4\\builder\\__init__.py:545: XMLParsedAsHTMLWarning: It looks like you're parsing an XML document using an HTML parser. If this really is an HTML document (maybe it's XHTML?), you can ignore or filter this warning. If it's XML, you should know that using an XML parser will be more reliable. To parse this document as XML, make sure you have the lxml package installed, and pass the keyword argument `features=\"xml\"` into the BeautifulSoup constructor.\n",
      "  warnings.warn(\n"
     ]
    }
   ],
   "source": [
    "## charger un fichier XML exemple que l'on modifiera par la suite\n",
    "with open('crossref-example-to-edit.xml', 'r') as f:\n",
    "    file = f.read()\n",
    "    crossref = BeautifulSoup(file, 'html.parser')"
   ]
  },
  {
   "cell_type": "code",
   "execution_count": 14,
   "id": "110baf26",
   "metadata": {},
   "outputs": [],
   "source": [
    "## xml buffer pour un auteur\n",
    "xml_author = '''<person_name contributor_role=\"author\" language=\"en\" sequence=\"first\">\n",
    "<given_name>Malek</given_name>\n",
    "<surname>Mansour</surname>\n",
    "</person_name>'''"
   ]
  },
  {
   "cell_type": "code",
   "execution_count": 15,
   "id": "ba4b0e3f",
   "metadata": {},
   "outputs": [],
   "source": [
    "## ajout des auteurs dans le XML d'exemple\n",
    "\n",
    "for auth_idx in article_md[\"auths\"] :\n",
    "    \n",
    "    # load xml template for one authors\n",
    "    auth_soup = BeautifulSoup(xml_author, \"html.parser\")\n",
    "    ## print(auth_idx)\n",
    "    \n",
    "    # change name and surname\n",
    "    auth_soup.given_name.string.replace_with( article_md[\"auths\"][auth_idx][\"given_name\"])\n",
    "    auth_soup.surname.string.replace_with( article_md[\"auths\"][auth_idx][\"surname\"])\n",
    "    \n",
    "    # inclure additionnal as value attribute\n",
    "    if auth_idx > 0 : \n",
    "        pers_name = auth_soup.find(\"person_name\")\n",
    "        pers_name[\"sequence\"] = \"additional\"       \n",
    "    \n",
    "    # paste data into the XML tree\n",
    "    crossref.contributors.append(auth_soup)\n",
    "    "
   ]
  },
  {
   "cell_type": "code",
   "execution_count": 16,
   "id": "a11ca438",
   "metadata": {},
   "outputs": [
    {
     "data": {
      "text/plain": [
       "'10.53480/emerg-neurol.5410'"
      ]
     },
     "execution_count": 16,
     "metadata": {},
     "output_type": "execute_result"
    }
   ],
   "source": [
    "## update doi\n",
    "crossref.doi.string.replace_with(article_md[\"doi\"])\n",
    "#crossref.doi"
   ]
  },
  {
   "cell_type": "code",
   "execution_count": 17,
   "id": "f7ee1b07",
   "metadata": {},
   "outputs": [
    {
     "data": {
      "text/plain": [
       "'https://emerging-neurologist.org/article/view/32'"
      ]
     },
     "execution_count": 17,
     "metadata": {},
     "output_type": "execute_result"
    }
   ],
   "source": [
    "## update ressource link\n",
    "crossref.resource.string.replace_with(lien_article)"
   ]
  },
  {
   "cell_type": "code",
   "execution_count": 26,
   "id": "68e1530b",
   "metadata": {},
   "outputs": [
    {
     "data": {
      "text/plain": [
       "'Une station de travail audio-numérique open-source pour la plate-forme Web'"
      ]
     },
     "execution_count": 26,
     "metadata": {},
     "output_type": "execute_result"
    }
   ],
   "source": [
    "## update title\n",
    "crossref.title.string.replace_with(article_md[\"title\"])"
   ]
  },
  {
   "cell_type": "code",
   "execution_count": 19,
   "id": "84ac9a32-2342-43ff-9703-a8235fa52f1e",
   "metadata": {},
   "outputs": [],
   "source": [
    "for iter_tag in crossref.find_all(\"year\"):\n",
    "    iter_tag.string.replace_with(article_md[\"date\"])"
   ]
  },
  {
   "cell_type": "code",
   "execution_count": 20,
   "id": "2676818c",
   "metadata": {},
   "outputs": [
    {
     "data": {
      "text/plain": [
       "'Introduction. Spinal cord involvement as a flare-up of Susac syndrome (SuS) is rarely reported in the literature. The pathogenesis of SuS includes multiple occlusions in micro vessels mediated by an autoimmune response to unknown antigens. This condition is characterized by a triad: central nervous system (CNS) dysfunction with a frequent involvement of the corpus callosum in brain MRI, visual disturbances due to branch retinal artery occlusion, and sensorineural hearing impairment.\\r\\nCase report. A 50-year-old man presented in December 2019 symptoms associating gait instability, diplopia and hypoacusis. A year later, he developed a vesical-sphincter disorder and a hypoesthesia in his right lower limb. Neurological examination identified a medullary syndrome, cerebellar ataxia and hypoacusis. We performed a brain and spinal MRI showing supratentorial and infratentorial white matter lesions, and gadolinium enhancing cervical lesions. Lumbar puncture with isoelectric focusing results was normal. Screening for differential diagnosis such as other inflammatory central nervous system diseases other than multiple sclerosis was performed considering this atypical presentation of the disease; workup of serological, immunological, angiotensin converting enzyme, and tumor markers was negative. A bilateral hearing deficit was confirmed with an audiogram. Retinal angiography showed ischemic retinal vasculitis. We diagnosed the patient with SuS and treated him with intravenous corticosteroids in transition to oral corticosteroids. We noticed a partial regression of his symptoms. Therefore, we highlight the importance of an early diagnosis for SuS to avoid a prognostic turnover of the disease. Spinal cord involvement should not rule out the diagnosis of SuS.'"
      ]
     },
     "execution_count": 20,
     "metadata": {},
     "output_type": "execute_result"
    }
   ],
   "source": [
    "## update abstract\n",
    "crossref.find(\"jats:p\").string.replace_with( article_md[\"abstract\"])"
   ]
  },
  {
   "cell_type": "code",
   "execution_count": 21,
   "id": "730e214d",
   "metadata": {},
   "outputs": [],
   "source": [
    "## add bibliography"
   ]
  },
  {
   "cell_type": "code",
   "execution_count": 22,
   "id": "14a32232",
   "metadata": {},
   "outputs": [],
   "source": [
    "## xml buffer for one ref\n",
    "xml_ref = '''<citation key=\"\">\n",
    "<unstructured_citation>one_ref_content</unstructured_citation>\n",
    "</citation>'''"
   ]
  },
  {
   "cell_type": "code",
   "execution_count": 23,
   "id": "32560998",
   "metadata": {},
   "outputs": [],
   "source": [
    "for idx, ref in enumerate(biblio) : \n",
    "    ## laod xml template for one ref\n",
    "    ref_soup = BeautifulSoup(xml_ref, \"html.parser\")\n",
    "    \n",
    "    ## change ref content\n",
    "    ref_soup.unstructured_citation.string.replace_with(ref)\n",
    "    \n",
    "    ## update idex attribute value\n",
    "    ref_temp = ref_soup.find(\"citation\")\n",
    "    ref_temp[\"key\"] = idx\n",
    "    \n",
    "    # paste data into the XML tree\n",
    "    crossref.citation_list.append(ref_soup)"
   ]
  },
  {
   "cell_type": "code",
   "execution_count": 24,
   "id": "bec3d69c",
   "metadata": {},
   "outputs": [
    {
     "name": "stdout",
     "output_type": "stream",
     "text": [
      "finished : file crossref-auto-746.xml is exported\n"
     ]
    }
   ],
   "source": [
    "## export XML document\n",
    "\n",
    "xml_content = str(crossref)\n",
    "\n",
    "## enregistre le fichier XML sous la forme crossref-auto-273.xml où 273 est l'identifiant de l'URL\n",
    "with open(f\"crossref-auto-{lien_article[-3:]}.xml\", \"w\", encoding=\"utf-8\") as xml_file : \n",
    "    xml_file.write(xml_content)\n",
    "\n",
    "print(f\"finished : file crossref-auto-{lien_article[-3:]}.xml is exported\")"
   ]
  },
  {
   "cell_type": "code",
   "execution_count": 25,
   "id": "0d7aafcd",
   "metadata": {},
   "outputs": [],
   "source": [
    "xml_file.close()"
   ]
  }
 ],
 "metadata": {
  "kernelspec": {
   "display_name": "Python 3 (ipykernel)",
   "language": "python",
   "name": "python3"
  },
  "language_info": {
   "codemirror_mode": {
    "name": "ipython",
    "version": 3
   },
   "file_extension": ".py",
   "mimetype": "text/x-python",
   "name": "python",
   "nbconvert_exporter": "python",
   "pygments_lexer": "ipython3",
   "version": "3.12.1"
  }
 },
 "nbformat": 4,
 "nbformat_minor": 5
}
