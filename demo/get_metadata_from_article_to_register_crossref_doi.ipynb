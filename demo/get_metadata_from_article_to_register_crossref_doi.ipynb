{
 "cells": [
  {
   "cell_type": "markdown",
   "id": "c79720a5",
   "metadata": {},
   "source": [
    "# Récupérer les métadonnées d'un article pour enregistrer son DOI chez Crossref"
   ]
  },
  {
   "cell_type": "markdown",
   "id": "20aa6d88",
   "metadata": {},
   "source": [
    "Contexte : un article de revue est publié et on souhaite enregistrer son DOI chez CrossRef. Le script python récupère les métadonnées de l'article publié, les ré-organise de sorte à former un fichier XML conforme au schéma CrossRef afin de pouvoir enregistrer le DOI de l'article. Les métadonnées récupérées son : titre, auteurs, année, DOI, résumé et références biblio. Le fichier XML est ensuite à charger dans [doi.crossref.org](https://doi.crossref.org)\n",
    "\n",
    "Script utilisé avec des articles publiés par Lodel 1.0 <br /> \n",
    "2023-07, Maxence Larrieu"
   ]
  },
  {
   "cell_type": "code",
   "execution_count": 21,
   "id": "07162b21",
   "metadata": {},
   "outputs": [],
   "source": [
    "import requests\n",
    "from  bs4 import BeautifulSoup"
   ]
  },
  {
   "cell_type": "code",
   "execution_count": 33,
   "id": "019b81af",
   "metadata": {},
   "outputs": [],
   "source": [
    "## renseigner l'URL de l'article dont il faut enregistrer le DOI\n",
    "lien_article = \"https://revues.mshparisnord.fr/rfim/index.php?id=479\""
   ]
  },
  {
   "cell_type": "markdown",
   "id": "c6aa9b05",
   "metadata": {},
   "source": [
    "## 1.  Récupérer les métadonnées depuis la page d'un l'article"
   ]
  },
  {
   "cell_type": "code",
   "execution_count": 34,
   "id": "692c6e78",
   "metadata": {},
   "outputs": [],
   "source": [
    "## un dictionnaire pour coller les métadonnées\n",
    "article_md = {}"
   ]
  },
  {
   "cell_type": "code",
   "execution_count": 35,
   "id": "17718c32",
   "metadata": {},
   "outputs": [],
   "source": [
    "# Entête de la requête\n",
    "entete = {\n",
    "    \"User-Agent\": \"Mozilla/5.0 (Windows NT 10.0; Win64; x64) AppleWebKit/537.36 (KHTML, like Gecko) Chrome/89.0.4389.82 Safari/537.36\"\n",
    "}"
   ]
  },
  {
   "cell_type": "code",
   "execution_count": 36,
   "id": "44b96f24",
   "metadata": {},
   "outputs": [],
   "source": [
    "## recueillir toutes les données de la page\n",
    "response = requests.get(lien_article, headers=entete)\n",
    "\n",
    "## les placer dans Beautiful soup\n",
    "soup = BeautifulSoup(response.content, \"html.parser\")"
   ]
  },
  {
   "cell_type": "markdown",
   "id": "b2f3bd3e",
   "metadata": {},
   "source": [
    "### Cibler les métadonnées à récupérer"
   ]
  },
  {
   "cell_type": "code",
   "execution_count": 37,
   "id": "bbed92a1",
   "metadata": {},
   "outputs": [],
   "source": [
    "# Titre de l'article\n",
    "article_md[\"title\"] = soup.find(\"title\").text.strip()"
   ]
  },
  {
   "cell_type": "code",
   "execution_count": 38,
   "id": "e5f0cec9",
   "metadata": {},
   "outputs": [],
   "source": [
    "## récupérer tous les auteurs\n",
    "auth_list = soup.find_all(\"meta\", {\"name\": \"author\"})\n",
    "auths = {}\n",
    "\n",
    "## passer la liste au niveau unitaire\n",
    "idx = 0\n",
    "for item in auth_list :\n",
    "    full_name = item.get(\"content\").strip()\n",
    "    auths[idx] = {}\n",
    "    auths[idx][\"given_name\"] = full_name[ full_name.index(\",\") +2 :]\n",
    "    auths[idx][\"surname\"] = full_name[ : full_name.index(\",\")]\n",
    "    idx += 1\n",
    "\n",
    "article_md[\"auths\"] = auths"
   ]
  },
  {
   "cell_type": "code",
   "execution_count": 39,
   "id": "ac276e82",
   "metadata": {},
   "outputs": [],
   "source": [
    "## abstract\n",
    "article_md[\"abstract\"] = soup.find(\"meta\", {\"name\" : \"DC.Description\"}).get(\"content\")"
   ]
  },
  {
   "cell_type": "code",
   "execution_count": 40,
   "id": "69011394",
   "metadata": {},
   "outputs": [],
   "source": [
    "## date\n",
    "full_date = soup.find(\"div\", {\"id\" : \"date\"}).text\n",
    "article_md[\"date\"] = full_date.split(\" \")[1]\n",
    "if not article_md[\"date\"].isnumeric() : \n",
    "    print(\"//!\\\\ probleme when getting date\")\n",
    "    quit()"
   ]
  },
  {
   "cell_type": "code",
   "execution_count": 41,
   "id": "3ead1425",
   "metadata": {},
   "outputs": [],
   "source": [
    "## doi\n",
    "doi_raw = soup.find(\"p\", {\"class\" : \"article__doi\"}).text\n",
    "doi_raw.split(\" \")[1]\n",
    "article_md[\"doi\"] = doi_raw[ doi_raw.index(\"doi.org/\") + 8 :]\n"
   ]
  },
  {
   "cell_type": "code",
   "execution_count": 42,
   "id": "4bd8f835",
   "metadata": {},
   "outputs": [
    {
     "name": "stdout",
     "output_type": "stream",
     "text": [
      "title \t Des outils interactifs pour l’étude des méthodes de composition des musiques électroacoustiques : les logiciels TaCEM comme ressources pédagogiques \n",
      "\n",
      "auths \t {0: {'given_name': 'Frédéric', 'surname': 'Dufeu'}, 1: {'given_name': 'Peter', 'surname': 'Manning'}, 2: {'given_name': 'Michael', 'surname': 'Clarke'}} \n",
      "\n",
      "abstract \t Introduction L’enseignement et l’apprentissage de la musique liée aux technologies, et plus particulièrement au traitement numérique de signal, peuvent dans une large mesure bénéficier de la recherche sur la production des musiques électroacoustiques. En effet, ce répertoire repose par définition sur un usage substantiel des nouvelles technologies, et l’étude d’une situation compositionnelle donnée offre un point de vue privilégié sur, d’une part, un processus créatif singulier et, d’autre part, un ensemble de techniques pour la génération et la transformation du son et des matériaux musicaux. Une approche par études de cas peut ainsi compléter l’apprentissage in abstracto des méthodes de composition musicale et des algorithmes de traitement de signal. Le projet TaCEM, conduit par les trois auteurs de cet article de 2012 à 2017, s’est donné pour objectif l’investigation des musiques électroacoustiques et une orientation particulière sur la relation entre innovations technologiques et processus compositionnels1. Bien que le projet relève principalement de la recherche musicologique, avec des questionnements à la fois d’ordre historique et analytique, une part significative de sa mise en œuvre s’appuie sur le développement de logiciels innovants qui peuvent également servir d’outils dans un contexte pédagogique. De fait, une partie de la recherche intégrant une importante dimension logicielle, entreprise par Michael Clarke à l’Université de Huddersfield avant le projet TaCEM, é \n",
      "\n",
      "date \t 2018 \n",
      "\n",
      "doi \t 10.56698/rfim.479 \n",
      "\n"
     ]
    }
   ],
   "source": [
    "## print article metadatas\n",
    "for item in article_md : \n",
    "    print(item, \"\\t\", article_md[item], \"\\n\")"
   ]
  },
  {
   "cell_type": "code",
   "execution_count": 43,
   "id": "ebe04a6d",
   "metadata": {},
   "outputs": [
    {
     "data": {
      "text/plain": [
       "['Battier Marc, Cheret Bertrand, Lemouton Serge & Philippe Manoury (dir.) (2003), PMA LIB. Les musiques électroniques de Philippe Manoury, cédérom multiplateforme, Paris, Ircam-Centre Pompidou.',\n",
       " 'Baudouin Olivier (2009), «\\xa0A Reconstruction of Stria\\xa0», Computer Music Journal, vol.\\xa031, nº\\xa03, p.\\xa075-81.']"
      ]
     },
     "execution_count": 43,
     "metadata": {},
     "output_type": "execute_result"
    }
   ],
   "source": [
    "## extra : get biblio\n",
    "biblio_raw = soup.find_all(\"p\", {\"class\" : \"bibliographie\"})\n",
    "biblio = []\n",
    "for item in biblio_raw : \n",
    "    biblio.append(item.get_text())\n",
    "\n",
    "biblio[:2]"
   ]
  },
  {
   "cell_type": "markdown",
   "id": "fd4ae39e",
   "metadata": {},
   "source": [
    "## Load local XML and parse article metadatas"
   ]
  },
  {
   "cell_type": "code",
   "execution_count": 44,
   "id": "019cf19f",
   "metadata": {},
   "outputs": [
    {
     "name": "stderr",
     "output_type": "stream",
     "text": [
      "c:\\users\\agentup\\appdata\\local\\programs\\python\\python39\\lib\\site-packages\\bs4\\builder\\__init__.py:545: XMLParsedAsHTMLWarning: It looks like you're parsing an XML document using an HTML parser. If this really is an HTML document (maybe it's XHTML?), you can ignore or filter this warning. If it's XML, you should know that using an XML parser will be more reliable. To parse this document as XML, make sure you have the lxml package installed, and pass the keyword argument `features=\"xml\"` into the BeautifulSoup constructor.\n",
      "  warnings.warn(\n"
     ]
    }
   ],
   "source": [
    "## charger un fichier XML exemple que l'on modifiera par la suite\n",
    "with open('crossref-example-to-edit.xml', 'r') as f:\n",
    "    file = f.read()\n",
    "    crossref = BeautifulSoup(file, 'html.parser')"
   ]
  },
  {
   "cell_type": "code",
   "execution_count": 45,
   "id": "110baf26",
   "metadata": {},
   "outputs": [],
   "source": [
    "## xml buffer pour un auteur\n",
    "xml_author = '''<person_name contributor_role=\"author\" language=\"en\" sequence=\"first\">\n",
    "<given_name>Malek</given_name>\n",
    "<surname>Mansour</surname>\n",
    "</person_name>'''"
   ]
  },
  {
   "cell_type": "code",
   "execution_count": 46,
   "id": "ba4b0e3f",
   "metadata": {},
   "outputs": [],
   "source": [
    "## ajout des auteurs dans le XML d'exemple\n",
    "\n",
    "for auth_idx in article_md[\"auths\"] :\n",
    "    \n",
    "    # load xml template for one authors\n",
    "    auth_soup = BeautifulSoup(xml_author, \"html.parser\")\n",
    "    ## print(auth_idx)\n",
    "    \n",
    "    # change name and surname\n",
    "    auth_soup.given_name.string.replace_with( article_md[\"auths\"][auth_idx][\"given_name\"])\n",
    "    auth_soup.surname.string.replace_with( article_md[\"auths\"][auth_idx][\"surname\"])\n",
    "    \n",
    "    # inclure additionnal as value attribute\n",
    "    if auth_idx > 0 : \n",
    "        pers_name = auth_soup.find(\"person_name\")\n",
    "        pers_name[\"sequence\"] = \"additional\"       \n",
    "    \n",
    "    # paste data into the XML tree\n",
    "    crossref.contributors.append(auth_soup)\n",
    "    "
   ]
  },
  {
   "cell_type": "code",
   "execution_count": 47,
   "id": "a11ca438",
   "metadata": {},
   "outputs": [
    {
     "data": {
      "text/plain": [
       "'10.53480/emerg-neurol.5410'"
      ]
     },
     "execution_count": 47,
     "metadata": {},
     "output_type": "execute_result"
    }
   ],
   "source": [
    "## update doi\n",
    "crossref.doi.string.replace_with(article_md[\"doi\"])\n",
    "#crossref.doi"
   ]
  },
  {
   "cell_type": "code",
   "execution_count": 48,
   "id": "f7ee1b07",
   "metadata": {},
   "outputs": [
    {
     "data": {
      "text/plain": [
       "'https://emerging-neurologist.org/article/view/32'"
      ]
     },
     "execution_count": 48,
     "metadata": {},
     "output_type": "execute_result"
    }
   ],
   "source": [
    "## update ressource link\n",
    "crossref.resource.string.replace_with(lien_article)"
   ]
  },
  {
   "cell_type": "code",
   "execution_count": 49,
   "id": "68e1530b",
   "metadata": {},
   "outputs": [
    {
     "data": {
      "text/plain": [
       "'Unusual flare up of Susac syndrome'"
      ]
     },
     "execution_count": 49,
     "metadata": {},
     "output_type": "execute_result"
    }
   ],
   "source": [
    "## update title\n",
    "crossref.title.string.replace_with(article_md[\"title\"])"
   ]
  },
  {
   "cell_type": "code",
   "execution_count": 50,
   "id": "21af6c0d",
   "metadata": {},
   "outputs": [
    {
     "data": {
      "text/plain": [
       "<year>2018</year>"
      ]
     },
     "execution_count": 50,
     "metadata": {},
     "output_type": "execute_result"
    }
   ],
   "source": [
    "## update year\n",
    "crossref.year.string.replace_with(article_md[\"date\"])\n",
    "crossref.year"
   ]
  },
  {
   "cell_type": "code",
   "execution_count": 51,
   "id": "2676818c",
   "metadata": {},
   "outputs": [
    {
     "data": {
      "text/plain": [
       "'Introduction. Spinal cord involvement as a flare-up of Susac syndrome (SuS) is rarely reported in the literature. The pathogenesis of SuS includes multiple occlusions in micro vessels mediated by an autoimmune response to unknown antigens. This condition is characterized by a triad: central nervous system (CNS) dysfunction with a frequent involvement of the corpus callosum in brain MRI, visual disturbances due to branch retinal artery occlusion, and sensorineural hearing impairment.\\r\\nCase report. A 50-year-old man presented in December 2019 symptoms associating gait instability, diplopia and hypoacusis. A year later, he developed a vesical-sphincter disorder and a hypoesthesia in his right lower limb. Neurological examination identified a medullary syndrome, cerebellar ataxia and hypoacusis. We performed a brain and spinal MRI showing supratentorial and infratentorial white matter lesions, and gadolinium enhancing cervical lesions. Lumbar puncture with isoelectric focusing results was normal. Screening for differential diagnosis such as other inflammatory central nervous system diseases other than multiple sclerosis was performed considering this atypical presentation of the disease; workup of serological, immunological, angiotensin converting enzyme, and tumor markers was negative. A bilateral hearing deficit was confirmed with an audiogram. Retinal angiography showed ischemic retinal vasculitis. We diagnosed the patient with SuS and treated him with intravenous corticosteroids in transition to oral corticosteroids. We noticed a partial regression of his symptoms. Therefore, we highlight the importance of an early diagnosis for SuS to avoid a prognostic turnover of the disease. Spinal cord involvement should not rule out the diagnosis of SuS.'"
      ]
     },
     "execution_count": 51,
     "metadata": {},
     "output_type": "execute_result"
    }
   ],
   "source": [
    "## update abstract\n",
    "crossref.find(\"jats:p\").string.replace_with( article_md[\"abstract\"])"
   ]
  },
  {
   "cell_type": "code",
   "execution_count": 52,
   "id": "730e214d",
   "metadata": {},
   "outputs": [],
   "source": [
    "## add bibliography"
   ]
  },
  {
   "cell_type": "code",
   "execution_count": 53,
   "id": "14a32232",
   "metadata": {},
   "outputs": [],
   "source": [
    "## xml buffer for one ref\n",
    "xml_ref = '''<citation key=\"\">\n",
    "<unstructured_citation>one_ref_content</unstructured_citation>\n",
    "</citation>'''"
   ]
  },
  {
   "cell_type": "code",
   "execution_count": 22,
   "id": "32560998",
   "metadata": {},
   "outputs": [],
   "source": [
    "for idx, ref in enumerate(biblio) : \n",
    "    ## laod xml template for one ref\n",
    "    ref_soup = BeautifulSoup(xml_ref, \"html.parser\")\n",
    "    \n",
    "    ## change ref content\n",
    "    ref_soup.unstructured_citation.string.replace_with(ref)\n",
    "    \n",
    "    ## update idex attribute value\n",
    "    ref_temp = ref_soup.find(\"citation\")\n",
    "    ref_temp[\"key\"] = idx\n",
    "    \n",
    "    # paste data into the XML tree\n",
    "    crossref.citation_list.append(ref_soup)"
   ]
  },
  {
   "cell_type": "code",
   "execution_count": 55,
   "id": "bec3d69c",
   "metadata": {},
   "outputs": [],
   "source": [
    "## export XML document\n",
    "\n",
    "xml_content = str(crossref)\n",
    "\n",
    "## enregistre le fichier XML sous la forme crossref-auto-273.xml où 273 est l'identifiant de l'URL\n",
    "with open(f\"crossref-auto-{lien_article[-3:]}.xml\", \"w\", encoding=\"utf-8\") as xml_file : \n",
    "    xml_file.write(xml_content)\n",
    "\n"
   ]
  },
  {
   "cell_type": "code",
   "execution_count": 56,
   "id": "0d7aafcd",
   "metadata": {},
   "outputs": [],
   "source": [
    "xml_file.close()"
   ]
  },
  {
   "cell_type": "code",
   "execution_count": null,
   "id": "1f837697",
   "metadata": {},
   "outputs": [],
   "source": []
  }
 ],
 "metadata": {
  "kernelspec": {
   "display_name": "Python 3 (ipykernel)",
   "language": "python",
   "name": "python3"
  },
  "language_info": {
   "codemirror_mode": {
    "name": "ipython",
    "version": 3
   },
   "file_extension": ".py",
   "mimetype": "text/x-python",
   "name": "python",
   "nbconvert_exporter": "python",
   "pygments_lexer": "ipython3",
   "version": "3.9.7"
  }
 },
 "nbformat": 4,
 "nbformat_minor": 5
}
