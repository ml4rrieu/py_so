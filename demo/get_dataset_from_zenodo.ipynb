{
 "cells": [
  {
   "cell_type": "markdown",
   "id": "abceb1d0",
   "metadata": {},
   "source": [
    "# Retrouver dans  Zenodo les jeux de données de son établissement "
   ]
  },
  {
   "cell_type": "code",
   "execution_count": 1,
   "id": "bd649c92",
   "metadata": {},
   "outputs": [],
   "source": [
    "import requests, json"
   ]
  },
  {
   "cell_type": "code",
   "execution_count": 2,
   "id": "47984414",
   "metadata": {},
   "outputs": [],
   "source": [
    "# a gist example : https://gist.github.com/slint/d30fc0f415300876facbbeb8a0989ab2"
   ]
  },
  {
   "cell_type": "markdown",
   "id": "3bcc7fda",
   "metadata": {},
   "source": [
    "l'API de Zenodo nécessite une clé. cf. https://developers.zenodo.org/#quickstart-upload"
   ]
  },
  {
   "cell_type": "code",
   "execution_count": 3,
   "id": "9903627c",
   "metadata": {},
   "outputs": [],
   "source": [
    "with open(\"../hide/personnal-keys.json\") as f : \n",
    "    ACCESS_TOKEN = json.load(f)[\"ZENODO_KEY\"]"
   ]
  },
  {
   "cell_type": "markdown",
   "id": "02a2f559",
   "metadata": {},
   "source": [
    "## Défnir la recherche sur le champs affiliation\n",
    "\n",
    "cf. https://help.zenodo.org/guides/search/"
   ]
  },
  {
   "cell_type": "code",
   "execution_count": 4,
   "id": "5392ad48",
   "metadata": {},
   "outputs": [],
   "source": [
    "aff_query = \"(univ* AND (diderot OR descartes))\""
   ]
  },
  {
   "cell_type": "code",
   "execution_count": 5,
   "id": "2696b58b",
   "metadata": {},
   "outputs": [],
   "source": [
    "r = requests.get(\"https://zenodo.org/api/records\",\n",
    "                 params = {\"q\" : \"creators.affiliation:\" +  aff_query,\n",
    "                           \"type\" : \"dataset\",\n",
    "                           \"size\" : 300,\n",
    "                           \"sort\" : \"mostrecent\",\n",
    "                           \"all_version\" : False,\n",
    "                           \"access_tpoken\" : ACCESS_TOKEN\n",
    "                          })\n",
    "res = r.json()"
   ]
  },
  {
   "cell_type": "markdown",
   "id": "8593c3a6",
   "metadata": {},
   "source": [
    "Se familiariser avec la structure de la réponse"
   ]
  },
  {
   "cell_type": "code",
   "execution_count": 6,
   "id": "068dba1e",
   "metadata": {},
   "outputs": [],
   "source": [
    "# export les résultats en JSON dans un fichier local \"zenodo_raw.json\"\n",
    "# ouvrir ce fichier en local et comprends sa structure\n",
    "with open(\"zenodo_raw.json\", 'w') as f : \n",
    "    json.dump(res, f)"
   ]
  },
  {
   "cell_type": "code",
   "execution_count": 9,
   "id": "d6996ad9",
   "metadata": {},
   "outputs": [
    {
     "name": "stdout",
     "output_type": "stream",
     "text": [
      "{\n",
      " \"conceptdoi\": \"10.5281/zenodo.6808400\",\n",
      " \"conceptrecid\": \"6808400\",\n",
      " \"created\": \"2022-08-15T11:32:14.492184+00:00\",\n",
      " \"doi\": \"10.5281/zenodo.6808401\",\n",
      " \"files\": [\n",
      "  {\n",
      "   \"bucket\": \"f603f45b-2b30-4f8a-8dc1-0e1c4afc8b96\",\n",
      "   \"checksum\": \"md5:775688570203529fd335d7899fbf7390\",\n",
      "   \"key\": \"Micropollutants data and code for urban wet-weather flows.zip\",\n",
      "   \"links\": {\n",
      "    \"self\": \"https://zenodo.org/api/files/f603f45b-2b30-4f8a-8dc1-0e1c4afc8b96/Micropollutants%20data%20and%20code%20for%20urban%20wet-weather%20flows.zip\"\n",
      "   },\n",
      "   \"size\": 3434073,\n",
      "   \"type\": \"zip\"\n",
      "  }\n",
      " ],\n",
      " \"id\": 6808401,\n",
      " \"links\": {\n",
      "  \"badge\": \"https://zenodo.org/badge/doi/10.5281/zenodo.6808401.svg\",\n",
      "  \"bucket\": \"https://zenodo.org/api/files/f603f45b-2b30-4f8a-8dc1-0e1c4afc8b96\",\n",
      "  \"conceptbadge\": \"https://zenodo.org/badge/doi/10.5281/zenodo.6808400.svg\",\n",
      "  \"conceptdoi\": \"https://doi.org/10.5281/zenodo.6808400\",\n",
      "  \"doi\": \"https://doi.org/10.5281/zenodo.6808401\",\n",
      "  \"html\": \"https://zenodo.org/record/6808401\",\n",
      "  \"latest\": \"https://zenodo.org/api/records/6808401\",\n",
      "  \"latest_html\": \"https://zenodo.org/record/6808401\",\n",
      "  \"self\": \"https://zenodo.org/api/records/6808401\"\n",
      " },\n",
      " \"metadata\": {\n",
      "  \"access_right\": \"open\",\n",
      "  \"access_right_category\": \"success\",\n",
      "  \"creators\": [\n",
      "   {\n",
      "    \"affiliation\": \"Department of Environmental and Resource Engineering (DTU Sustain), Technical University of Denmark, Bygningstorvet, Building 115, 2800 Kgs., Lyngby, Denmark\",\n",
      "    \"name\": \"Mutzner, Lena\"\n",
      "   },\n",
      "   {\n",
      "    \"affiliation\": \"Eawag, Swiss Federal Institute of Aquatic Science and Technology, 8600 D\\u00fcbendorf, Switzerland.\",\n",
      "    \"name\": \"Furrer, Viviane\"\n",
      "   },\n",
      "   {\n",
      "    \"affiliation\": \"University of Lyon, INSA Lyon, DEEP, EA 7429, 11 rue de la Physique, F-69621, Villeurbanne cedex, France\",\n",
      "    \"name\": \"Castebrunet, H\\u00e9l\\u00e8ne\"\n",
      "   },\n",
      "   {\n",
      "    \"affiliation\": \"Department of Civil Engineering, Institute for Urban Water Management, Technical University Kaiserslautern, 67663, Kaiserslautern, Germany\",\n",
      "    \"name\": \"Dittmer, Ulrich\"\n",
      "   },\n",
      "   {\n",
      "    \"affiliation\": \"Department of Aquatic Environmental Engineering, Institute for Water and River Basin Management, Karlsruhe Institute of Technology (KIT), Gotthard-Franz-Str. 3, 76131 Karlsruhe, Germany\",\n",
      "    \"name\": \"Fuchs, Stephan\"\n",
      "   },\n",
      "   {\n",
      "    \"affiliation\": \"ICRA, Catalan Institute for Water Research, Scientific and Technological Park of the University of Girona, H2O Building, Emili Grahit 101, 17003, Girona, Spain\",\n",
      "    \"name\": \"Gernjak, Wolfgang\"\n",
      "   },\n",
      "   {\n",
      "    \"affiliation\": \"Leesu, \\u00c9cole des Ponts ParisTech, Universit\\u00e9 Paris-Est Cr\\u00e9teil. 6-8 avenue Blaise Pascal, Cit\\u00e9 Descartes, Marne-la-Vall\\u00e9e cedex 2, 77455, France\",\n",
      "    \"name\": \"Gromaire, Marie-Christine\"\n",
      "   },\n",
      "   {\n",
      "    \"affiliation\": \"Kompetenzzentrum Wasser Berlin (KWB), 10961 Berlin, Germany\",\n",
      "    \"name\": \"Matzinger, Andreas\"\n",
      "   },\n",
      "   {\n",
      "    \"affiliation\": \"Department of Environmental and Resource Engineering (DTU Sustain), Technical University of Denmark, Bygningstorvet, Building 115, 2800 Kgs., Lyngby, Denmark\",\n",
      "    \"name\": \"Steen Mikkelsen, Peter\"\n",
      "   },\n",
      "   {\n",
      "    \"affiliation\": \"U.S. Geological Survey, Upper Midwest Water Science Center, Madison, WI 53726, United States\",\n",
      "    \"name\": \"Selbig, William R.\"\n",
      "   },\n",
      "   {\n",
      "    \"affiliation\": \"Department of Environmental and Resource Engineering (DTU Sustain), Technical University of Denmark, Bygningstorvet, Building 115, 2800 Kgs., Lyngby, Denmark\",\n",
      "    \"name\": \"Vezzaro, Luca\"\n",
      "   }\n",
      "  ],\n",
      "  \"description\": \"<p><strong>Data and code for publication</strong></p>\\n\\n<p><em>Lena Mutzner, Viviane Furrer, H&eacute;l&egrave;ne Castebrunet, Ulrich Dittmer, Stephan Fuchs, Wolfgang Gernjak, Marie-Christine Gromaire, Andreas Matzinger, Peter Steen Mikkelsen, William R. Selbig, Luca Vezzaro,<br>\\nA decade of monitoring micropollutants in urban wet-weather flows: what did we learn?<br>\\nWater Research, 2022.<br>\\nhttps://doi.org/10.1016/j.watres.2022.118968</em></p>\\n\\n<p><strong>Data</strong></p>\\n\\n<p>Micropollutants concentrations in &micro;g/l (incl. heavy metals) for 77 wet-weather discharge sites (36 combined sewer overflows, 41 stormwater outlets). The provided data set is a collection of raw data sets based on publications referenced below. The data description is provided in the folder Data\\\\AA_DataDescription.txt</p>\\n\\n<p><strong>Abstract</strong></p>\\n\\n<p>Urban wet-weather discharges from combined sewer overflows (CSO) and stormwater outlets (SWO) are a potential pathway for micropollutants (trace contaminants) to surface waters, posing a threat to the environment and possible water reuse applications. Despite large efforts to monitor micropollutants in the last decade, the gained information is still limited and scattered. In a metastudy we performed a data-driven analysis of measurements collected at 77 sites (683 events, 297 detected micropollutants) over the last decade to investigate which micropollutants are most relevant in terms of 1) occurrence and 2) potential risk for the aquatic environment, 3) estimate the minimum number of data to be collected in monitoring studies to reliably obtain concentration estimates, and 4) provide recommendations for future monitoring campaigns. We highlight micropollutants to be prioritized due to their high occurrence and critical concentration levels compared to environmental quality standards. These top-listed micropollutants include contaminants from all chemical classes (pesticides, heavy metals, polycyclic aromatic hydrocarbons, personal care products, pharmaceuticals, and industrial and household chemicals). Analysis of over 30,000 event mean concentrations shows a large fraction of measurements (&gt; 50%) were below the limit of quantification, stressing the need for reliable, standard monitoring procedures. High variability was observed among events and sites, with differences between micropollutant classes. The number of events required for a reliable estimate of site mean concentrations (error bandwidth of 1 around the &ldquo;true value) depends on the individual micropollutant. The median minimum number of events is 7 for CSO (2 to 31, 80%-interquantile) and 6 for SWO (1 to 25 events, 80%-interquantile). Our analysis indicates the minimum number of sites needed to assess global pollution levels and our data collection and analysis can be used to estimate the required number of sites for an urban catchment. Our data-driven analysis demonstrates how future wet-weather monitoring programs will be more effective if the consequences of high variability inherent in urban wet-weather discharges are considered.</p>\",\n",
      "  \"doi\": \"10.5281/zenodo.6808401\",\n",
      "  \"keywords\": [\n",
      "   \"micropollutants\",\n",
      "   \"wet-weather flows\",\n",
      "   \"stormwater\",\n",
      "   \"monitoring\",\n",
      "   \"trace contaminants\",\n",
      "   \"heavy metals\"\n",
      "  ],\n",
      "  \"language\": \"eng\",\n",
      "  \"license\": {\n",
      "   \"id\": \"GPL-3.0\"\n",
      "  },\n",
      "  \"publication_date\": \"2022-08-09\",\n",
      "  \"references\": [\n",
      "   \"Lena Mutzner, Viviane Furrer, H\\u00e9l\\u00e8ne Castebrunet, Ulrich Dittmer, Stephan Fuchs, Wolfgang Gernjak, Marie-Christine Gromaire, Andreas Matzinger, Peter Steen Mikkelsen, William R. Selbig, Luca Vezzaro, A decade of monitoring micropollutants in urban wet-weather flows: what did we learn?, Water Research, 2022. https://doi.org/10.1016/j.watres.2022.118968.\",\n",
      "   \"Gasperi, J., Sebastian, C., Ruban, V., Delamain, M., Percot, S., Wiest, L., Mirande, C., Caupos, E., Demare, D., Diallo Kessoo, M., Saad, M., Schwartz, J.J., Dubois, P., Fratta, C., Wolff, H., Moilleron, R., Chebbo, G., Cren, C., Millet, M., Barraud, S., Gromaire, M.C., Kessoo, M.D.K., Saad, M., Schwartz, J.J., Dubois, P., Fratta, C., Wolff, H., Moilleron, R., Chebbo, G., Cren, C., Millet, M., Barraud, S., Gromaire, M.C., Diallo Kessoo, M., Saad, M., Schwartz, J.J., Dubois, P., Fratta, C., Wolff, H., Moilleron, R., Chebbo, G., Cren, C., Millet, M., Barraud, S., Gromaire, M.C., 2014.  Micropollutants in urban stormwater: occurrence, concentrations, and atmospheric contributions for a wide range of contaminants in three French catchments.  Environmental Science and Pollution Research 21, 5267\\u20135281.  https://doi.org/10.1007/s11356-013-2396-0\",\n",
      "   \"Gromaire, Marie-Christine; Gasperi, Johnny; Sebastian, Christel; Ruban, V\\u00e9ronique; Delamain, M\\u00e9lissa; Percot, St\\u00e9phane; Mirande, C\\u00e9cile; Wiest, Laure; Caupos, Emilie; Demare, Dominique; Saad, Mohamed; Schwartz, Jean-Jacques; Dubois, Philippe; Fratta, C\\u00e9dric; Moilleron, R\\u00e9gis; Chebbo, Ghassan; Cren, C\\u00e9cile; Millet, Maurice; Barraud, Sylvie (2021),  \\\"INOGEV_stormwater_micropollutants\\\", Mendeley Data, V1,  doi: 10.17632/gstn37p2xh.1\",\n",
      "   \"Wicke, D., Matzinger, A., Sonnenberg, H., Caradot, N., Schubert, R.L., Dick, R., Heinzmann, B., D\\u00fcnnbier, U., von Seggern, D., Rouault, P., 2021.  Micropollutants in urban stormwater runoff of different land uses.  Water (Switzerland) 13.  https://doi.org/10.3390/w13091312\",\n",
      "   \"Burant, A., Selbig, W., Furlong, E.T., Higgins, C.P., 2018.  Trace organic contaminants in urban runoff: Associations with urban land-use.  Environmental Pollution 242, 2068\\u20132077.  https://doi.org/10.1016/j.envpol.2018.06.066\",\n",
      "   \"Masoner, J.R., Kolpin, D.W., Cozzarelli, I.M., Barber, L.B., Burden, D.S., Foreman, W.T., Forshay, K.J., Furlong, E.T., Groves, J.F., Hladik, M.L., Hopton, M.E., Jaeschke, J.B., Keefe, S.H., Krabbenhoft, D.P., Lowrance, R., Romanok, K.M., Rus, D.L., Selbig, W.R., Williams, B.H., Bradley, P.M., 2019.  Urban Stormwater: An Overlooked Pathway of Extensive Mixed Contaminants to Surface and Groundwaters in the United States.  Environmental Science and Technology 53, 10070\\u201310081.  https://doi.org/10.1021/acs.est.9b02867\",\n",
      "   \"Mutzner, L., Bohren, C., Mangold, S., Dicht, S., Ort, C., Bloem, S., Ort, C., 2020.  Spatial differences among micropollutants in sewer overflows: A multisite analysis using passive samplers.  Environmental Science & Technology 54, 6584\\u20136593.  https://doi.org/10.1021/acs.est.9b05148\",\n",
      "   \"Garnier, R., 2020.  Syst\\u00e8mes alternatifs de gestion des eaux pluviales: Contribution \\u00e0 l 'analyse de performances conjointes en mati\\u00e8re d'hydrologie quantitative et de pi\\u00e9geage de micropolluants.  Comparaison syst\\u00e8mes \\u00e0 la source \\u2013 syst\\u00e8me centralis\\u00e9.  Institut National des Sciences Appliqu\\u00e9es de Lyon (INSA-Lyon). https://tel.archives-ouvertes.fr/tel-03156850\",\n",
      "   \"Gasperi, J., Sebastian, C., Ruban, V., Delamain, M., Percot, S., Wiest, L., Mirande, C., Caupos, E., Demare, D., Diallo Kessoo, M., Saad, M., Schwartz, J.J., Dubois, P., Fratta, C., Wolff, H., Moilleron, R., Chebbo, G., Cren, C., Millet, M., Barraud, S., Gromaire, M.C., Kessoo, M.D.K., Saad, M., Schwartz, J.J., Dubois, P., Fratta, C., Wolff, H., Moilleron, R., Chebbo, G., Cren, C., Millet, M., Barraud, S., Gromaire, M.C., Diallo Kessoo, M., Saad, M., Schwartz, J.J., Dubois, P., Fratta, C., Wolff, H., Moilleron, R., Chebbo, G., Cren, C., Millet, M., Barraud, S., Gromaire, M.C., 2014.  Micropollutants in urban stormwater: occurrence, concentrations, and atmospheric contributions for a wide range of contaminants in three French catchments.  Environmental Science and Pollution Research 21, 5267\\u20135281.  https://doi.org/10.1007/s11356-013-2396-0\",\n",
      "   \"S\\u00e9bastian, C., Becouze-Lareure, C., Lipeme Kouyi, G., Barraud, S., 2015.  Event-based quantification of emerging pollutant removal for an open stormwater retention basin - Loads, efficiency and importance of uncertainties.  Water Research 72, 239\\u2013250.  https://doi.org/10.1016/j.watres.2014.11.014\",\n",
      "   \"Rippy, M.A., Deletic, A., Black, J., Aryal, R., Lampard, J.L., Tang, J.Y., McCarthy, D., Kolotelo, P., Sidhu, J., Gernjak, W., 2017.  Pesticide occurrence and spatio-temporal variability in urban run-off across Australia. Water Res 115, 245\\u2013255.  https://doi.org/10.1016/j.watres.2017.03.010\",\n",
      "   \"Milj\\u00f8styrelsen, 2017. Afrapportering af det intensive m\\u00e5leprogram for de regnbetingede udl\\u00f8b 2014-2016 - Gr\\u00f8nlandstorv Aalborg (in Danish). Cited in Milj\\u00f8styrelsen, 2022. Typetal for milj\\u00f8farlige forurenende stoffer i regnbetingede udledninger - p\\u00e5 baggrund af data fra det nationale overv\\u00e5gningsprogram 2000-2020, ISBN: 978-87-7038-386-8\",\n",
      "   \"Milj\\u00f8styrelsen, 2013. Afrapportering af det intensive m\\u00e5leprogram for de regnbetingede udl\\u00f8b 2012-2013 \\u2013 Gug Skole opland (in Danish). Cited in Milj\\u00f8styrelsen, 2022. Typetal for milj\\u00f8farlige forurenende stoffer i regnbetingede udledninger - p\\u00e5 baggrund af data fra det nationale overv\\u00e5gningsprogram 2000-2020, ISBN: 978-87-7038-386-8\",\n",
      "   \"Nickel, J.P., Sacher, F., Fuchs, S., 2021.  Up-to-date monitoring data of wastewater and stormwater quality in Germany.  Water Research 202, 117452.  https://doi.org/10.1016/j.watres.2021.117452\"\n",
      "  ],\n",
      "  \"related_identifiers\": [\n",
      "   {\n",
      "    \"identifier\": \"10.5281/zenodo.6808400\",\n",
      "    \"relation\": \"isVersionOf\",\n",
      "    \"scheme\": \"doi\"\n",
      "   }\n",
      "  ],\n",
      "  \"relations\": {\n",
      "   \"version\": [\n",
      "    {\n",
      "     \"count\": 1,\n",
      "     \"index\": 0,\n",
      "     \"is_last\": true,\n",
      "     \"last_child\": {\n",
      "      \"pid_type\": \"recid\",\n",
      "      \"pid_value\": \"6808401\"\n",
      "     },\n",
      "     \"parent\": {\n",
      "      \"pid_type\": \"recid\",\n",
      "      \"pid_value\": \"6808400\"\n",
      "     }\n",
      "    }\n",
      "   ]\n",
      "  },\n",
      "  \"resource_type\": {\n",
      "   \"title\": \"Dataset\",\n",
      "   \"type\": \"dataset\"\n",
      "  },\n",
      "  \"title\": \"Data and code for \\\"A decade of monitoring micropollutants in urban wet-weather flows: what did we learn?\\\"\",\n",
      "  \"version\": \"v1\"\n",
      " },\n",
      " \"owners\": [\n",
      "  370526\n",
      " ],\n",
      " \"revision\": 4,\n",
      " \"stats\": {\n",
      "  \"downloads\": 29.0,\n",
      "  \"unique_downloads\": 28.0,\n",
      "  \"unique_views\": 89.0,\n",
      "  \"version_downloads\": 29.0,\n",
      "  \"version_unique_downloads\": 28.0,\n",
      "  \"version_unique_views\": 89.0,\n",
      "  \"version_views\": 104.0,\n",
      "  \"version_volume\": 99588117.0,\n",
      "  \"views\": 104.0,\n",
      "  \"volume\": 99588117.0\n",
      " },\n",
      " \"updated\": \"2022-08-15T14:26:20.331595+00:00\"\n",
      "}\n"
     ]
    }
   ],
   "source": [
    "# imprimer le premier résultat de la requête\n",
    "print(json.dumps(res[\"hits\"][\"hits\"][1],  indent = 1))"
   ]
  },
  {
   "cell_type": "code",
   "execution_count": 10,
   "id": "644f82a2",
   "metadata": {},
   "outputs": [
    {
     "name": "stdout",
     "output_type": "stream",
     "text": [
      "72\n"
     ]
    }
   ],
   "source": [
    "# nb de jeux de données trouvés\n",
    "print(res[\"hits\"][\"total\"])"
   ]
  },
  {
   "cell_type": "code",
   "execution_count": null,
   "id": "649a8eb9",
   "metadata": {},
   "outputs": [],
   "source": [
    "# imprimer le 10e résultat de la requête\n",
    "print(json.dumps(res[\"hits\"][\"hits\"][10], indent = 2))"
   ]
  },
  {
   "cell_type": "code",
   "execution_count": 11,
   "id": "10d06841",
   "metadata": {},
   "outputs": [
    {
     "data": {
      "text/plain": [
       "dict_keys(['conceptdoi', 'conceptrecid', 'created', 'doi', 'files', 'id', 'links', 'metadata', 'owners', 'revision', 'stats', 'updated'])"
      ]
     },
     "execution_count": 11,
     "metadata": {},
     "output_type": "execute_result"
    }
   ],
   "source": [
    "# imprimer les clés d'un hits\n",
    "first_hit = res[\"hits\"][\"hits\"][0]\n",
    "first_hit.keys()"
   ]
  },
  {
   "cell_type": "markdown",
   "id": "b6f17819",
   "metadata": {},
   "source": [
    "## Déduire les informations à récupérer\n",
    "``` \n",
    "id, l'identifiant zenodo, pour déduire le lien https://zenodo.org/record/5005868\n",
    "metadata/publication_date : date du dépot\n",
    "metadata/titre : titre du jeu de de donnée\n",
    "metadata/license : la licence apposée\n",
    "metadata/keywords\n",
    "metadata/doi\n",
    "```"
   ]
  },
  {
   "cell_type": "markdown",
   "id": "88dce8e2",
   "metadata": {},
   "source": [
    "## Récupérer les données"
   ]
  },
  {
   "cell_type": "code",
   "execution_count": 12,
   "id": "3a274ed7",
   "metadata": {},
   "outputs": [],
   "source": [
    "# un dictionnaire pour récupérer les données\n",
    "data = {}\n",
    "\n",
    "# itérer sur les résultats et placer les données souhaitées dans le dictionnaire data\n",
    "for idx, item in enumerate( res[\"hits\"][\"hits\"] ) : \n",
    "    \n",
    "    data[idx] = {}\n",
    "    data[idx][\"id\"] = item[\"id\"]\n",
    "    \n",
    "    data[idx][\"title\"] = item[\"metadata\"].get(\"title\")\n",
    "    data[idx][\"publication_date\"] = item[\"metadata\"].get(\"publication_date\")\n",
    "    data[idx][\"doi\"] = item[\"metadata\"].get(\"doi\")\n",
    "    \n",
    "    #licence\n",
    "    if item[\"metadata\"].get(\"license\") : \n",
    "        data[idx][\"license\"] = item[\"metadata\"][\"license\"][\"id\"]   \n",
    "    \n",
    "    # mots-clés\n",
    "    if item[\"metadata\"].get(\"keywords\") : \n",
    "        data[idx][\"keywords\"] = \",\".join(item[\"metadata\"][\"keywords\"])  "
   ]
  },
  {
   "cell_type": "code",
   "execution_count": 13,
   "id": "a46071a5",
   "metadata": {},
   "outputs": [
    {
     "name": "stdout",
     "output_type": "stream",
     "text": [
      "{\n",
      " \"id\": 5005868,\n",
      " \"title\": \"A global inventory of solar photovoltaic generating units - dataset\",\n",
      " \"publication_date\": \"2021-10-27\",\n",
      " \"doi\": \"10.5281/zenodo.5005868\",\n",
      " \"license\": \"CC-BY-4.0\",\n",
      " \"keywords\": \"photovoltaic solar,remote sensing,geospatial data,computer vision\"\n",
      "}\n"
     ]
    }
   ],
   "source": [
    "## imprimer les données récupérer d'un jeu de donnée\n",
    "print( json.dumps(data[3], indent = 1))"
   ]
  },
  {
   "cell_type": "markdown",
   "id": "a3c4d96a",
   "metadata": {},
   "source": [
    "## Placer les données dans un dataframe"
   ]
  },
  {
   "cell_type": "code",
   "execution_count": 14,
   "id": "57c730ae",
   "metadata": {},
   "outputs": [],
   "source": [
    "import pandas as pd"
   ]
  },
  {
   "cell_type": "code",
   "execution_count": 27,
   "id": "9f7e8432",
   "metadata": {},
   "outputs": [],
   "source": [
    "df = pd.DataFrame.from_dict(data, orient='index')"
   ]
  },
  {
   "cell_type": "code",
   "execution_count": 29,
   "id": "cd315212",
   "metadata": {},
   "outputs": [
    {
     "data": {
      "text/html": [
       "<div>\n",
       "<style scoped>\n",
       "    .dataframe tbody tr th:only-of-type {\n",
       "        vertical-align: middle;\n",
       "    }\n",
       "\n",
       "    .dataframe tbody tr th {\n",
       "        vertical-align: top;\n",
       "    }\n",
       "\n",
       "    .dataframe thead th {\n",
       "        text-align: right;\n",
       "    }\n",
       "</style>\n",
       "<table border=\"1\" class=\"dataframe\">\n",
       "  <thead>\n",
       "    <tr style=\"text-align: right;\">\n",
       "      <th></th>\n",
       "      <th>id</th>\n",
       "      <th>title</th>\n",
       "      <th>publication_date</th>\n",
       "      <th>doi</th>\n",
       "      <th>license</th>\n",
       "      <th>keywords</th>\n",
       "    </tr>\n",
       "  </thead>\n",
       "  <tbody>\n",
       "    <tr>\n",
       "      <th>13</th>\n",
       "      <td>5003345</td>\n",
       "      <td>Data from: State transitions: a major mortalit...</td>\n",
       "      <td>2018-05-23</td>\n",
       "      <td>10.5061/dryad.km2s0</td>\n",
       "      <td>CC0-1.0</td>\n",
       "      <td>primate,Microcebus murinus,Biological rhythm,P...</td>\n",
       "    </tr>\n",
       "    <tr>\n",
       "      <th>16</th>\n",
       "      <td>4999955</td>\n",
       "      <td>Data from: Molecular determinants of agonist s...</td>\n",
       "      <td>2015-08-26</td>\n",
       "      <td>10.5061/dryad.k47p7</td>\n",
       "      <td>CC0-1.0</td>\n",
       "      <td>NaN</td>\n",
       "    </tr>\n",
       "  </tbody>\n",
       "</table>\n",
       "</div>"
      ],
      "text/plain": [
       "         id                                              title  \\\n",
       "13  5003345  Data from: State transitions: a major mortalit...   \n",
       "16  4999955  Data from: Molecular determinants of agonist s...   \n",
       "\n",
       "   publication_date                  doi  license  \\\n",
       "13       2018-05-23  10.5061/dryad.km2s0  CC0-1.0   \n",
       "16       2015-08-26  10.5061/dryad.k47p7  CC0-1.0   \n",
       "\n",
       "                                             keywords  \n",
       "13  primate,Microcebus murinus,Biological rhythm,P...  \n",
       "16                                                NaN  "
      ]
     },
     "execution_count": 29,
     "metadata": {},
     "output_type": "execute_result"
    }
   ],
   "source": [
    "df.sample(2)"
   ]
  },
  {
   "cell_type": "code",
   "execution_count": 30,
   "id": "151478ae",
   "metadata": {},
   "outputs": [],
   "source": [
    "# trier la table par date de dépôt\n",
    "df = df.sort_values( by = \"publication_date\", ascending = False)"
   ]
  },
  {
   "cell_type": "code",
   "execution_count": 31,
   "id": "4dd023a3",
   "metadata": {},
   "outputs": [
    {
     "data": {
      "text/html": [
       "<div>\n",
       "<style scoped>\n",
       "    .dataframe tbody tr th:only-of-type {\n",
       "        vertical-align: middle;\n",
       "    }\n",
       "\n",
       "    .dataframe tbody tr th {\n",
       "        vertical-align: top;\n",
       "    }\n",
       "\n",
       "    .dataframe thead th {\n",
       "        text-align: right;\n",
       "    }\n",
       "</style>\n",
       "<table border=\"1\" class=\"dataframe\">\n",
       "  <thead>\n",
       "    <tr style=\"text-align: right;\">\n",
       "      <th></th>\n",
       "      <th>id</th>\n",
       "      <th>title</th>\n",
       "      <th>publication_date</th>\n",
       "      <th>doi</th>\n",
       "      <th>license</th>\n",
       "      <th>keywords</th>\n",
       "    </tr>\n",
       "  </thead>\n",
       "  <tbody>\n",
       "    <tr>\n",
       "      <th>0</th>\n",
       "      <td>7104630</td>\n",
       "      <td>Experimental data of \"Mesoscopic Klein-Schwing...</td>\n",
       "      <td>2022-09-22</td>\n",
       "      <td>10.5281/zenodo.7104630</td>\n",
       "      <td>CC-BY-4.0</td>\n",
       "      <td>NaN</td>\n",
       "    </tr>\n",
       "    <tr>\n",
       "      <th>1</th>\n",
       "      <td>6808401</td>\n",
       "      <td>Data and code for \"A decade of monitoring micr...</td>\n",
       "      <td>2022-08-09</td>\n",
       "      <td>10.5281/zenodo.6808401</td>\n",
       "      <td>GPL-3.0</td>\n",
       "      <td>micropollutants,wet-weather flows,stormwater,m...</td>\n",
       "    </tr>\n",
       "    <tr>\n",
       "      <th>2</th>\n",
       "      <td>6760262</td>\n",
       "      <td>Molecular and electrophysiological features of...</td>\n",
       "      <td>2022-06-27</td>\n",
       "      <td>10.5061/dryad.37pvmcvp1</td>\n",
       "      <td>CC0-1.0</td>\n",
       "      <td>classification,hippocampus,Interneurons,Dentat...</td>\n",
       "    </tr>\n",
       "    <tr>\n",
       "      <th>3</th>\n",
       "      <td>5005868</td>\n",
       "      <td>A global inventory of solar photovoltaic gener...</td>\n",
       "      <td>2021-10-27</td>\n",
       "      <td>10.5281/zenodo.5005868</td>\n",
       "      <td>CC-BY-4.0</td>\n",
       "      <td>photovoltaic solar,remote sensing,geospatial d...</td>\n",
       "    </tr>\n",
       "  </tbody>\n",
       "</table>\n",
       "</div>"
      ],
      "text/plain": [
       "        id                                              title  \\\n",
       "0  7104630  Experimental data of \"Mesoscopic Klein-Schwing...   \n",
       "1  6808401  Data and code for \"A decade of monitoring micr...   \n",
       "2  6760262  Molecular and electrophysiological features of...   \n",
       "3  5005868  A global inventory of solar photovoltaic gener...   \n",
       "\n",
       "  publication_date                      doi    license  \\\n",
       "0       2022-09-22   10.5281/zenodo.7104630  CC-BY-4.0   \n",
       "1       2022-08-09   10.5281/zenodo.6808401    GPL-3.0   \n",
       "2       2022-06-27  10.5061/dryad.37pvmcvp1    CC0-1.0   \n",
       "3       2021-10-27   10.5281/zenodo.5005868  CC-BY-4.0   \n",
       "\n",
       "                                            keywords  \n",
       "0                                                NaN  \n",
       "1  micropollutants,wet-weather flows,stormwater,m...  \n",
       "2  classification,hippocampus,Interneurons,Dentat...  \n",
       "3  photovoltaic solar,remote sensing,geospatial d...  "
      ]
     },
     "execution_count": 31,
     "metadata": {},
     "output_type": "execute_result"
    }
   ],
   "source": [
    "df[:4]"
   ]
  },
  {
   "cell_type": "code",
   "execution_count": null,
   "id": "d5296e17",
   "metadata": {},
   "outputs": [],
   "source": [
    "## exporter la table en CSV\n",
    "df.to_csv(\"data_from_zenodo.csv\", index = False)"
   ]
  },
  {
   "cell_type": "markdown",
   "id": "3cc7e206",
   "metadata": {},
   "source": [
    "----\n",
    "## Vigilance"
   ]
  },
  {
   "cell_type": "markdown",
   "id": "a67307eb",
   "metadata": {},
   "source": [
    "* la recherche dans l'affiliation se fait pour tous les auteurs (comme le Wos) donc du bruit peut être présent en sortie\n",
    "\n",
    "* l'API donne les résultats avec un systeme de pagination. Vérifier à la fin de la réponse si `links` ne contient pas une url `next`"
   ]
  },
  {
   "cell_type": "code",
   "execution_count": null,
   "id": "df37b0eb",
   "metadata": {},
   "outputs": [],
   "source": []
  }
 ],
 "metadata": {
  "kernelspec": {
   "display_name": "Python 3 (ipykernel)",
   "language": "python",
   "name": "python3"
  },
  "language_info": {
   "codemirror_mode": {
    "name": "ipython",
    "version": 3
   },
   "file_extension": ".py",
   "mimetype": "text/x-python",
   "name": "python",
   "nbconvert_exporter": "python",
   "pygments_lexer": "ipython3",
   "version": "3.9.7"
  }
 },
 "nbformat": 4,
 "nbformat_minor": 5
}
