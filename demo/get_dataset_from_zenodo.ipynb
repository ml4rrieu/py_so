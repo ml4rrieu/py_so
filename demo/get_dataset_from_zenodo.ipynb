{
 "cells": [
  {
   "cell_type": "markdown",
   "id": "abceb1d0",
   "metadata": {},
   "source": [
    "# Retrouver dans  Zenodo les jeux de données de son établissement "
   ]
  },
  {
   "cell_type": "code",
   "execution_count": 1,
   "id": "bd649c92",
   "metadata": {},
   "outputs": [],
   "source": [
    "import requests, json"
   ]
  },
  {
   "cell_type": "code",
   "execution_count": null,
   "id": "47984414",
   "metadata": {},
   "outputs": [],
   "source": [
    "# a gist example : https://gist.github.com/slint/d30fc0f415300876facbbeb8a0989ab2"
   ]
  },
  {
   "cell_type": "markdown",
   "id": "3bcc7fda",
   "metadata": {},
   "source": [
    "l'API de Zenodo nécessite une clé. cf. https://developers.zenodo.org/#quickstart-upload"
   ]
  },
  {
   "cell_type": "code",
   "execution_count": 2,
   "id": "9903627c",
   "metadata": {},
   "outputs": [],
   "source": [
    "with open(\"../hide/personnal-keys.json\") as f : \n",
    "    ACCESS_TOKEN = json.load(f)[\"ZENODO_KEY\"]"
   ]
  },
  {
   "cell_type": "markdown",
   "id": "02a2f559",
   "metadata": {},
   "source": [
    "## Défnir la recherche sur le champs affiliation\n",
    "\n",
    "cf. https://help.zenodo.org/guides/search/"
   ]
  },
  {
   "cell_type": "code",
   "execution_count": 3,
   "id": "5392ad48",
   "metadata": {},
   "outputs": [],
   "source": [
    "aff_query = \"(univ* AND (diderot OR descartes))\""
   ]
  },
  {
   "cell_type": "code",
   "execution_count": 4,
   "id": "2696b58b",
   "metadata": {},
   "outputs": [],
   "source": [
    "r = requests.get(\"https://zenodo.org/api/records\",\n",
    "                 params = {\"q\" : \"creators.affiliation:\" +  aff_query,\n",
    "                           \"type\" : \"dataset\",\n",
    "                           \"size\" : 300,\n",
    "                           \"sort\" : \"mostrecent\",\n",
    "                           \"all_version\" : False,\n",
    "                           \"access_tpoken\" : ACCESS_TOKEN\n",
    "                          })\n",
    "res = r.json()"
   ]
  },
  {
   "cell_type": "markdown",
   "id": "8593c3a6",
   "metadata": {},
   "source": [
    "Se familiariser avec la structure de la réponse"
   ]
  },
  {
   "cell_type": "code",
   "execution_count": null,
   "id": "068dba1e",
   "metadata": {},
   "outputs": [],
   "source": [
    "# export en JSON\n",
    "with open(\"zenodo_raw.json\", 'w') as f : \n",
    "    json.dump(res, f)"
   ]
  },
  {
   "cell_type": "code",
   "execution_count": null,
   "id": "d6996ad9",
   "metadata": {},
   "outputs": [],
   "source": [
    "# impression json\n",
    "print(json.dumps(res[\"hits\"],  indent = 1))"
   ]
  },
  {
   "cell_type": "code",
   "execution_count": 5,
   "id": "644f82a2",
   "metadata": {},
   "outputs": [
    {
     "name": "stdout",
     "output_type": "stream",
     "text": [
      "70\n"
     ]
    }
   ],
   "source": [
    "# nb de jeux de données trouvés\n",
    "print(res[\"hits\"][\"total\"])"
   ]
  },
  {
   "cell_type": "code",
   "execution_count": null,
   "id": "649a8eb9",
   "metadata": {},
   "outputs": [],
   "source": [
    "# imprimer le contenu d'un seul hits\n",
    "print(json.dumps(res[\"hits\"][\"hits\"][0], indent = 2))"
   ]
  },
  {
   "cell_type": "code",
   "execution_count": 6,
   "id": "10d06841",
   "metadata": {},
   "outputs": [
    {
     "data": {
      "text/plain": [
       "dict_keys(['conceptdoi', 'conceptrecid', 'created', 'doi', 'files', 'id', 'links', 'metadata', 'owners', 'revision', 'stats', 'updated'])"
      ]
     },
     "execution_count": 6,
     "metadata": {},
     "output_type": "execute_result"
    }
   ],
   "source": [
    "# imprimer les clés d'un hits\n",
    "first_hit = res[\"hits\"][\"hits\"][0]\n",
    "first_hit.keys()"
   ]
  },
  {
   "cell_type": "markdown",
   "id": "b6f17819",
   "metadata": {},
   "source": [
    "## Déduire les informations à récupérer\n",
    "``` \n",
    "id, l'identifiant zenodo, pour déduire le lien https://zenodo.org/record/5005868\n",
    "metadata/publication_date : date du dépot\n",
    "metadata/titre : titre du jeu de de donnée\n",
    "metadata/license : la licence apposée\n",
    "metadata/keywords\n",
    "metadata/doi\n",
    "```"
   ]
  },
  {
   "cell_type": "markdown",
   "id": "88dce8e2",
   "metadata": {},
   "source": [
    "## Récupérer les données"
   ]
  },
  {
   "cell_type": "code",
   "execution_count": 7,
   "id": "3a274ed7",
   "metadata": {},
   "outputs": [],
   "source": [
    "# un dict pour coller les données\n",
    "data = {}\n",
    "\n",
    "for idx, item in enumerate( res[\"hits\"][\"hits\"] ) : \n",
    "    \n",
    "    data[idx] = {}\n",
    "    data[idx][\"id\"] = item[\"id\"]\n",
    "    \n",
    "    data[idx][\"title\"] = item[\"metadata\"].get(\"title\")\n",
    "    data[idx][\"publication_date\"] = item[\"metadata\"].get(\"publication_date\")\n",
    "    data[idx][\"doi\"] = item[\"metadata\"].get(\"doi\")\n",
    "    \n",
    "    #licence\n",
    "    if item[\"metadata\"].get(\"license\") : \n",
    "        data[idx][\"license\"] = item[\"metadata\"][\"license\"][\"id\"]   \n",
    "    \n",
    "    # mots-clés\n",
    "    if item[\"metadata\"].get(\"keywords\") : \n",
    "        data[idx][\"keywords\"] = \",\".join(item[\"metadata\"][\"keywords\"])  "
   ]
  },
  {
   "cell_type": "code",
   "execution_count": 9,
   "id": "a46071a5",
   "metadata": {},
   "outputs": [
    {
     "name": "stdout",
     "output_type": "stream",
     "text": [
      "{\n",
      " \"id\": 5450933,\n",
      " \"title\": \"Decline in telomere length with increasing age across non\\u2010human vertebrates: a meta\\u2010analysis\",\n",
      " \"publication_date\": \"2021-09-07\",\n",
      " \"doi\": \"10.5061/dryad.000000048\",\n",
      " \"license\": \"CC0-1.0\"\n",
      "}\n"
     ]
    }
   ],
   "source": [
    "print( json.dumps(data[3], indent = 1))"
   ]
  },
  {
   "cell_type": "markdown",
   "id": "a3c4d96a",
   "metadata": {},
   "source": [
    "## Transform json to df and vizualise"
   ]
  },
  {
   "cell_type": "code",
   "execution_count": 10,
   "id": "57c730ae",
   "metadata": {},
   "outputs": [],
   "source": [
    "import pandas as pd"
   ]
  },
  {
   "cell_type": "code",
   "execution_count": 11,
   "id": "9f7e8432",
   "metadata": {},
   "outputs": [],
   "source": [
    "df = pd.DataFrame(data)"
   ]
  },
  {
   "cell_type": "code",
   "execution_count": 12,
   "id": "cd315212",
   "metadata": {},
   "outputs": [
    {
     "data": {
      "text/html": [
       "<div>\n",
       "<style scoped>\n",
       "    .dataframe tbody tr th:only-of-type {\n",
       "        vertical-align: middle;\n",
       "    }\n",
       "\n",
       "    .dataframe tbody tr th {\n",
       "        vertical-align: top;\n",
       "    }\n",
       "\n",
       "    .dataframe thead th {\n",
       "        text-align: right;\n",
       "    }\n",
       "</style>\n",
       "<table border=\"1\" class=\"dataframe\">\n",
       "  <thead>\n",
       "    <tr style=\"text-align: right;\">\n",
       "      <th></th>\n",
       "      <th>0</th>\n",
       "      <th>1</th>\n",
       "      <th>2</th>\n",
       "      <th>3</th>\n",
       "      <th>4</th>\n",
       "      <th>5</th>\n",
       "      <th>6</th>\n",
       "      <th>7</th>\n",
       "      <th>8</th>\n",
       "      <th>9</th>\n",
       "      <th>...</th>\n",
       "      <th>60</th>\n",
       "      <th>61</th>\n",
       "      <th>62</th>\n",
       "      <th>63</th>\n",
       "      <th>64</th>\n",
       "      <th>65</th>\n",
       "      <th>66</th>\n",
       "      <th>67</th>\n",
       "      <th>68</th>\n",
       "      <th>69</th>\n",
       "    </tr>\n",
       "  </thead>\n",
       "  <tbody>\n",
       "    <tr>\n",
       "      <th>publication_date</th>\n",
       "      <td>2021-10-27</td>\n",
       "      <td>2021-10-04</td>\n",
       "      <td>2021-09-17</td>\n",
       "      <td>2021-09-07</td>\n",
       "      <td>2019-02-02</td>\n",
       "      <td>2014-06-03</td>\n",
       "      <td>2019-06-14</td>\n",
       "      <td>2016-02-11</td>\n",
       "      <td>2016-02-19</td>\n",
       "      <td>2019-01-04</td>\n",
       "      <td>...</td>\n",
       "      <td>2015-02-14</td>\n",
       "      <td>2015-01-27</td>\n",
       "      <td>2015-01-19</td>\n",
       "      <td>2015-01-27</td>\n",
       "      <td>2015-01-26</td>\n",
       "      <td>2015-01-19</td>\n",
       "      <td>2015-01-27</td>\n",
       "      <td>2015-01-19</td>\n",
       "      <td>2015-01-23</td>\n",
       "      <td>2015-01-27</td>\n",
       "    </tr>\n",
       "    <tr>\n",
       "      <th>title</th>\n",
       "      <td>A global inventory of solar photovoltaic gener...</td>\n",
       "      <td>Energetic return on investment determines over...</td>\n",
       "      <td>Effect of water on sandstone's fracture toughn...</td>\n",
       "      <td>Decline in telomere length with increasing age...</td>\n",
       "      <td>Data from: Evolution of a dominant natural iso...</td>\n",
       "      <td>Data from: Postglacial climate changes and ris...</td>\n",
       "      <td>Data from: Risks of 23 specific malformations ...</td>\n",
       "      <td>Data from: Reduced mate availability leads to ...</td>\n",
       "      <td>Data from: Should the WHO growth charts be use...</td>\n",
       "      <td>Data from: Ultrasonic cavitation induces necro...</td>\n",
       "      <td>...</td>\n",
       "      <td>Dataset from \"Matthieu Delescluse and Christop...</td>\n",
       "      <td>MD simulation trajectory and related files for...</td>\n",
       "      <td>MD simulation trajectory for POPC/50% Chol bil...</td>\n",
       "      <td>MD simulation trajectory and related files for...</td>\n",
       "      <td>MD simulation trajectory and related files for...</td>\n",
       "      <td>MD simulation trajectory for POPC/20% Chol bil...</td>\n",
       "      <td>MD simulation trajectory and related files for...</td>\n",
       "      <td>MD simulation trajectory and related files for...</td>\n",
       "      <td>Data set from Pouzat and Chaffiol (2009) Journ...</td>\n",
       "      <td>Tetrode recording from the antennal lobe of a ...</td>\n",
       "    </tr>\n",
       "  </tbody>\n",
       "</table>\n",
       "<p>2 rows × 70 columns</p>\n",
       "</div>"
      ],
      "text/plain": [
       "                                                                 0   \\\n",
       "publication_date                                         2021-10-27   \n",
       "title             A global inventory of solar photovoltaic gener...   \n",
       "\n",
       "                                                                 1   \\\n",
       "publication_date                                         2021-10-04   \n",
       "title             Energetic return on investment determines over...   \n",
       "\n",
       "                                                                 2   \\\n",
       "publication_date                                         2021-09-17   \n",
       "title             Effect of water on sandstone's fracture toughn...   \n",
       "\n",
       "                                                                 3   \\\n",
       "publication_date                                         2021-09-07   \n",
       "title             Decline in telomere length with increasing age...   \n",
       "\n",
       "                                                                 4   \\\n",
       "publication_date                                         2019-02-02   \n",
       "title             Data from: Evolution of a dominant natural iso...   \n",
       "\n",
       "                                                                 5   \\\n",
       "publication_date                                         2014-06-03   \n",
       "title             Data from: Postglacial climate changes and ris...   \n",
       "\n",
       "                                                                 6   \\\n",
       "publication_date                                         2019-06-14   \n",
       "title             Data from: Risks of 23 specific malformations ...   \n",
       "\n",
       "                                                                 7   \\\n",
       "publication_date                                         2016-02-11   \n",
       "title             Data from: Reduced mate availability leads to ...   \n",
       "\n",
       "                                                                 8   \\\n",
       "publication_date                                         2016-02-19   \n",
       "title             Data from: Should the WHO growth charts be use...   \n",
       "\n",
       "                                                                 9   ...  \\\n",
       "publication_date                                         2019-01-04  ...   \n",
       "title             Data from: Ultrasonic cavitation induces necro...  ...   \n",
       "\n",
       "                                                                 60  \\\n",
       "publication_date                                         2015-02-14   \n",
       "title             Dataset from \"Matthieu Delescluse and Christop...   \n",
       "\n",
       "                                                                 61  \\\n",
       "publication_date                                         2015-01-27   \n",
       "title             MD simulation trajectory and related files for...   \n",
       "\n",
       "                                                                 62  \\\n",
       "publication_date                                         2015-01-19   \n",
       "title             MD simulation trajectory for POPC/50% Chol bil...   \n",
       "\n",
       "                                                                 63  \\\n",
       "publication_date                                         2015-01-27   \n",
       "title             MD simulation trajectory and related files for...   \n",
       "\n",
       "                                                                 64  \\\n",
       "publication_date                                         2015-01-26   \n",
       "title             MD simulation trajectory and related files for...   \n",
       "\n",
       "                                                                 65  \\\n",
       "publication_date                                         2015-01-19   \n",
       "title             MD simulation trajectory for POPC/20% Chol bil...   \n",
       "\n",
       "                                                                 66  \\\n",
       "publication_date                                         2015-01-27   \n",
       "title             MD simulation trajectory and related files for...   \n",
       "\n",
       "                                                                 67  \\\n",
       "publication_date                                         2015-01-19   \n",
       "title             MD simulation trajectory and related files for...   \n",
       "\n",
       "                                                                 68  \\\n",
       "publication_date                                         2015-01-23   \n",
       "title             Data set from Pouzat and Chaffiol (2009) Journ...   \n",
       "\n",
       "                                                                 69  \n",
       "publication_date                                         2015-01-27  \n",
       "title             Tetrode recording from the antennal lobe of a ...  \n",
       "\n",
       "[2 rows x 70 columns]"
      ]
     },
     "execution_count": 12,
     "metadata": {},
     "output_type": "execute_result"
    }
   ],
   "source": [
    "df.sample(2)"
   ]
  },
  {
   "cell_type": "code",
   "execution_count": 13,
   "id": "151478ae",
   "metadata": {},
   "outputs": [],
   "source": [
    "# renverser colonne & ligne\n",
    "df = df.T\n",
    "# trier par date de dépôt\n",
    "df = df.sort_values( by = \"publication_date\", ascending = False)"
   ]
  },
  {
   "cell_type": "code",
   "execution_count": 14,
   "id": "4dd023a3",
   "metadata": {},
   "outputs": [
    {
     "data": {
      "text/html": [
       "<div>\n",
       "<style scoped>\n",
       "    .dataframe tbody tr th:only-of-type {\n",
       "        vertical-align: middle;\n",
       "    }\n",
       "\n",
       "    .dataframe tbody tr th {\n",
       "        vertical-align: top;\n",
       "    }\n",
       "\n",
       "    .dataframe thead th {\n",
       "        text-align: right;\n",
       "    }\n",
       "</style>\n",
       "<table border=\"1\" class=\"dataframe\">\n",
       "  <thead>\n",
       "    <tr style=\"text-align: right;\">\n",
       "      <th></th>\n",
       "      <th>id</th>\n",
       "      <th>title</th>\n",
       "      <th>publication_date</th>\n",
       "      <th>doi</th>\n",
       "      <th>license</th>\n",
       "      <th>keywords</th>\n",
       "    </tr>\n",
       "  </thead>\n",
       "  <tbody>\n",
       "    <tr>\n",
       "      <th>0</th>\n",
       "      <td>5005868</td>\n",
       "      <td>A global inventory of solar photovoltaic gener...</td>\n",
       "      <td>2021-10-27</td>\n",
       "      <td>10.5281/zenodo.5005868</td>\n",
       "      <td>CC-BY-4.0</td>\n",
       "      <td>photovoltaic solar,remote sensing,geospatial d...</td>\n",
       "    </tr>\n",
       "    <tr>\n",
       "      <th>1</th>\n",
       "      <td>5547311</td>\n",
       "      <td>Energetic return on investment determines over...</td>\n",
       "      <td>2021-10-04</td>\n",
       "      <td>10.5281/zenodo.5547311</td>\n",
       "      <td>CC-BY-4.0</td>\n",
       "      <td>soil,microorganisms,microbial activity,organic...</td>\n",
       "    </tr>\n",
       "    <tr>\n",
       "      <th>2</th>\n",
       "      <td>5513285</td>\n",
       "      <td>Effect of water on sandstone's fracture toughn...</td>\n",
       "      <td>2021-09-17</td>\n",
       "      <td>10.1016/j.ijrmms.2021.104916</td>\n",
       "      <td>CC-BY-4.0</td>\n",
       "      <td>NaN</td>\n",
       "    </tr>\n",
       "    <tr>\n",
       "      <th>3</th>\n",
       "      <td>5450933</td>\n",
       "      <td>Decline in telomere length with increasing age...</td>\n",
       "      <td>2021-09-07</td>\n",
       "      <td>10.5061/dryad.000000048</td>\n",
       "      <td>CC0-1.0</td>\n",
       "      <td>NaN</td>\n",
       "    </tr>\n",
       "  </tbody>\n",
       "</table>\n",
       "</div>"
      ],
      "text/plain": [
       "        id                                              title  \\\n",
       "0  5005868  A global inventory of solar photovoltaic gener...   \n",
       "1  5547311  Energetic return on investment determines over...   \n",
       "2  5513285  Effect of water on sandstone's fracture toughn...   \n",
       "3  5450933  Decline in telomere length with increasing age...   \n",
       "\n",
       "  publication_date                           doi    license  \\\n",
       "0       2021-10-27        10.5281/zenodo.5005868  CC-BY-4.0   \n",
       "1       2021-10-04        10.5281/zenodo.5547311  CC-BY-4.0   \n",
       "2       2021-09-17  10.1016/j.ijrmms.2021.104916  CC-BY-4.0   \n",
       "3       2021-09-07       10.5061/dryad.000000048    CC0-1.0   \n",
       "\n",
       "                                            keywords  \n",
       "0  photovoltaic solar,remote sensing,geospatial d...  \n",
       "1  soil,microorganisms,microbial activity,organic...  \n",
       "2                                                NaN  \n",
       "3                                                NaN  "
      ]
     },
     "execution_count": 14,
     "metadata": {},
     "output_type": "execute_result"
    }
   ],
   "source": [
    "df[:4]"
   ]
  },
  {
   "cell_type": "code",
   "execution_count": null,
   "id": "d5296e17",
   "metadata": {},
   "outputs": [],
   "source": [
    "df.to_csv(\"data_from_zenodo.csv\", index = False)"
   ]
  },
  {
   "cell_type": "markdown",
   "id": "3cc7e206",
   "metadata": {},
   "source": [
    "----\n",
    "## Vigilance"
   ]
  },
  {
   "cell_type": "markdown",
   "id": "a67307eb",
   "metadata": {},
   "source": [
    "* la recherche dans l'affiliation se fait pour tous les auteurs (comme le wos) donc du bruit peut être présent en sortie\n",
    "\n",
    "* l'API donne les résultats avec un systeme de pagination. Vérifier à la fin de la réponse si `links` ne contient pas une url `next`"
   ]
  },
  {
   "cell_type": "code",
   "execution_count": null,
   "id": "df37b0eb",
   "metadata": {},
   "outputs": [],
   "source": []
  }
 ],
 "metadata": {
  "kernelspec": {
   "display_name": "Python 3",
   "language": "python",
   "name": "python3"
  },
  "language_info": {
   "codemirror_mode": {
    "name": "ipython",
    "version": 3
   },
   "file_extension": ".py",
   "mimetype": "text/x-python",
   "name": "python",
   "nbconvert_exporter": "python",
   "pygments_lexer": "ipython3",
   "version": "3.9.7"
  }
 },
 "nbformat": 4,
 "nbformat_minor": 5
}
