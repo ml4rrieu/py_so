{
 "cells": [
  {
   "cell_type": "markdown",
   "id": "abceb1d0",
   "metadata": {},
   "source": [
    "# Retrouver dans  Zenodo les jeux de données de son établissement "
   ]
  },
  {
   "cell_type": "code",
   "execution_count": 1,
   "id": "bd649c92",
   "metadata": {},
   "outputs": [],
   "source": [
    "import requests, json"
   ]
  },
  {
   "cell_type": "code",
   "execution_count": 2,
   "id": "47984414",
   "metadata": {},
   "outputs": [],
   "source": [
    "# a gist example : https://gist.github.com/slint/d30fc0f415300876facbbeb8a0989ab2"
   ]
  },
  {
   "cell_type": "markdown",
   "id": "3bcc7fda",
   "metadata": {},
   "source": [
    "l'API de Zenodo nécessite une clé. cf. https://developers.zenodo.org/#quickstart-upload"
   ]
  },
  {
   "cell_type": "code",
   "execution_count": 3,
   "id": "9903627c",
   "metadata": {},
   "outputs": [],
   "source": [
    "with open(\"../hide/personnal.json\") as f : \n",
    "    ACCESS_TOKEN = json.load(f)[\"ZENODO_KEY\"]"
   ]
  },
  {
   "cell_type": "markdown",
   "id": "02a2f559",
   "metadata": {},
   "source": [
    "## Défnir la recherche sur le champs affiliation\n",
    "\n",
    "cf. https://help.zenodo.org/guides/search/"
   ]
  },
  {
   "cell_type": "code",
   "execution_count": 4,
   "id": "5392ad48",
   "metadata": {},
   "outputs": [],
   "source": [
    "aff_query = \"(univ* AND (diderot OR descartes))\""
   ]
  },
  {
   "cell_type": "code",
   "execution_count": 5,
   "id": "2696b58b",
   "metadata": {},
   "outputs": [],
   "source": [
    "r = requests.get(\"https://zenodo.org/api/records\",\n",
    "                 params = {\"q\" : \"creators.affiliation:\" +  aff_query,\n",
    "                           \"type\" : \"dataset\",\n",
    "                           \"size\" : 300,\n",
    "                           \"sort\" : \"mostrecent\",\n",
    "                           \"all_version\" : False,\n",
    "                           \"access_tpoken\" : ACCESS_TOKEN\n",
    "                          })\n",
    "res = r.json()"
   ]
  },
  {
   "cell_type": "markdown",
   "id": "8593c3a6",
   "metadata": {},
   "source": [
    "Se familiariser avec la structure de la réponse"
   ]
  },
  {
   "cell_type": "code",
   "execution_count": null,
   "id": "068dba1e",
   "metadata": {},
   "outputs": [],
   "source": [
    "# export en JSON\n",
    "with open(\"zenodo_raw.json\", 'w') as f : \n",
    "    json.dump(res, f)"
   ]
  },
  {
   "cell_type": "code",
   "execution_count": null,
   "id": "d6996ad9",
   "metadata": {},
   "outputs": [],
   "source": [
    "# impression json\n",
    "print(json.dumps(res[\"hits\"],  indent = 1))"
   ]
  },
  {
   "cell_type": "code",
   "execution_count": 6,
   "id": "644f82a2",
   "metadata": {},
   "outputs": [
    {
     "name": "stdout",
     "output_type": "stream",
     "text": [
      "70\n"
     ]
    }
   ],
   "source": [
    "# nb de jeux de données trouvés\n",
    "print(res[\"hits\"][\"total\"])"
   ]
  },
  {
   "cell_type": "code",
   "execution_count": null,
   "id": "649a8eb9",
   "metadata": {},
   "outputs": [],
   "source": [
    "# imprimer le contenu d'un seul hits\n",
    "print(json.dumps(res[\"hits\"][\"hits\"][0], indent = 2))"
   ]
  },
  {
   "cell_type": "code",
   "execution_count": 7,
   "id": "10d06841",
   "metadata": {},
   "outputs": [
    {
     "data": {
      "text/plain": [
       "dict_keys(['conceptdoi', 'conceptrecid', 'created', 'doi', 'files', 'id', 'links', 'metadata', 'owners', 'revision', 'stats', 'updated'])"
      ]
     },
     "execution_count": 7,
     "metadata": {},
     "output_type": "execute_result"
    }
   ],
   "source": [
    "# imprimer les clés d'un hits\n",
    "first_hit = res[\"hits\"][\"hits\"][0]\n",
    "first_hit.keys()"
   ]
  },
  {
   "cell_type": "markdown",
   "id": "b6f17819",
   "metadata": {},
   "source": [
    "## Déduire les informations à récupérer\n",
    "``` \n",
    "id, l'identifiant zenodo, pour déduire le lien https://zenodo.org/record/5005868\n",
    "metadata/publication_date : date du dépot\n",
    "metadata/titre : titre du jeu de de donnée\n",
    "metadata/license : la licence apposée\n",
    "metadata/keywords\n",
    "metadata/doi\n",
    "```"
   ]
  },
  {
   "cell_type": "markdown",
   "id": "88dce8e2",
   "metadata": {},
   "source": [
    "## Récupérer les données"
   ]
  },
  {
   "cell_type": "code",
   "execution_count": 8,
   "id": "3a274ed7",
   "metadata": {},
   "outputs": [],
   "source": [
    "# un dict pour coller les données\n",
    "data = {}\n",
    "\n",
    "for idx, item in enumerate( res[\"hits\"][\"hits\"] ) : \n",
    "    \n",
    "    data[idx] = {}\n",
    "    data[idx][\"id\"] = item[\"id\"]\n",
    "    \n",
    "    data[idx][\"title\"] = item[\"metadata\"].get(\"title\")\n",
    "    data[idx][\"publication_date\"] = item[\"metadata\"].get(\"publication_date\")\n",
    "    data[idx][\"doi\"] = item[\"metadata\"].get(\"doi\")\n",
    "    \n",
    "    #licence\n",
    "    if item[\"metadata\"].get(\"license\") : \n",
    "        data[idx][\"license\"] = item[\"metadata\"][\"license\"][\"id\"]   \n",
    "    \n",
    "    # mots-clés\n",
    "    if item[\"metadata\"].get(\"keywords\") : \n",
    "        data[idx][\"keywords\"] = \",\".join(item[\"metadata\"][\"keywords\"])  "
   ]
  },
  {
   "cell_type": "code",
   "execution_count": 9,
   "id": "a46071a5",
   "metadata": {},
   "outputs": [
    {
     "name": "stdout",
     "output_type": "stream",
     "text": [
      "{\n",
      " \"id\": 5005868,\n",
      " \"title\": \"A global inventory of solar photovoltaic generating units - dataset\",\n",
      " \"publication_date\": \"2021-10-27\",\n",
      " \"doi\": \"10.5281/zenodo.5005868\",\n",
      " \"license\": \"CC-BY-4.0\",\n",
      " \"keywords\": \"photovoltaic solar,remote sensing,geospatial data,computer vision\"\n",
      "}\n"
     ]
    }
   ],
   "source": [
    "print( json.dumps(data[0], indent = 1))"
   ]
  },
  {
   "cell_type": "markdown",
   "id": "a3c4d96a",
   "metadata": {},
   "source": [
    "## Transform json to df and vizualise"
   ]
  },
  {
   "cell_type": "code",
   "execution_count": 10,
   "id": "57c730ae",
   "metadata": {},
   "outputs": [],
   "source": [
    "import pandas as pd"
   ]
  },
  {
   "cell_type": "code",
   "execution_count": 11,
   "id": "9f7e8432",
   "metadata": {},
   "outputs": [],
   "source": [
    "df = pd.DataFrame(data)"
   ]
  },
  {
   "cell_type": "code",
   "execution_count": null,
   "id": "cd315212",
   "metadata": {},
   "outputs": [],
   "source": [
    "df.sample(2)"
   ]
  },
  {
   "cell_type": "code",
   "execution_count": 12,
   "id": "151478ae",
   "metadata": {},
   "outputs": [],
   "source": [
    "# renverser colonne & ligne\n",
    "df = df.T\n",
    "# trier par date de dépôt\n",
    "df = df.sort_values( by = \"publication_date\", ascending = False)"
   ]
  },
  {
   "cell_type": "code",
   "execution_count": 13,
   "id": "4dd023a3",
   "metadata": {},
   "outputs": [
    {
     "data": {
      "text/html": [
       "<div>\n",
       "<style scoped>\n",
       "    .dataframe tbody tr th:only-of-type {\n",
       "        vertical-align: middle;\n",
       "    }\n",
       "\n",
       "    .dataframe tbody tr th {\n",
       "        vertical-align: top;\n",
       "    }\n",
       "\n",
       "    .dataframe thead th {\n",
       "        text-align: right;\n",
       "    }\n",
       "</style>\n",
       "<table border=\"1\" class=\"dataframe\">\n",
       "  <thead>\n",
       "    <tr style=\"text-align: right;\">\n",
       "      <th></th>\n",
       "      <th>id</th>\n",
       "      <th>title</th>\n",
       "      <th>publication_date</th>\n",
       "      <th>doi</th>\n",
       "      <th>license</th>\n",
       "      <th>keywords</th>\n",
       "    </tr>\n",
       "  </thead>\n",
       "  <tbody>\n",
       "    <tr>\n",
       "      <th>64</th>\n",
       "      <td>14595</td>\n",
       "      <td>MD simulation trajectory and related files for...</td>\n",
       "      <td>2015-01-27</td>\n",
       "      <td>10.5281/zenodo.14595</td>\n",
       "      <td>GPL-3.0</td>\n",
       "      <td>NaN</td>\n",
       "    </tr>\n",
       "    <tr>\n",
       "      <th>22</th>\n",
       "      <td>4946518</td>\n",
       "      <td>Data from: Developmental venous anomaly in dif...</td>\n",
       "      <td>2019-09-06</td>\n",
       "      <td>10.5061/dryad.ps00rd5</td>\n",
       "      <td>CC0-1.0</td>\n",
       "      <td>MRI,Primary brain tumor,Other cerebrovascular ...</td>\n",
       "    </tr>\n",
       "    <tr>\n",
       "      <th>56</th>\n",
       "      <td>46479</td>\n",
       "      <td>Benchmark of the SAXS Merge method</td>\n",
       "      <td>2013-12-14</td>\n",
       "      <td>10.5281/zenodo.46479</td>\n",
       "      <td>LGPL-2.1</td>\n",
       "      <td>Integrative Modeling Platform (IMP),Benchmark,...</td>\n",
       "    </tr>\n",
       "    <tr>\n",
       "      <th>24</th>\n",
       "      <td>4900655</td>\n",
       "      <td>Mobiliscope</td>\n",
       "      <td>2021-05-28</td>\n",
       "      <td>10.5281/zenodo.4900655</td>\n",
       "      <td>CC-BY-4.0</td>\n",
       "      <td>social inequalities; segregation; daily mobili...</td>\n",
       "    </tr>\n",
       "    <tr>\n",
       "      <th>26</th>\n",
       "      <td>4540395</td>\n",
       "      <td>Dataset related to article \"Cutaneous barrier ...</td>\n",
       "      <td>2021-02-14</td>\n",
       "      <td>10.5281/zenodo.4540395</td>\n",
       "      <td>NaN</td>\n",
       "      <td>LPS,RAG,T cells,chemokines,cytokines,dysbiosis...</td>\n",
       "    </tr>\n",
       "    <tr>\n",
       "      <th>20</th>\n",
       "      <td>4954332</td>\n",
       "      <td>Data from: The loci of repeated evolution: a c...</td>\n",
       "      <td>2013-02-04</td>\n",
       "      <td>10.5061/dryad.v66p0</td>\n",
       "      <td>CC0-1.0</td>\n",
       "      <td>Mutations,Eukaryota,Evolutionary genomics</td>\n",
       "    </tr>\n",
       "    <tr>\n",
       "      <th>4</th>\n",
       "      <td>5089991</td>\n",
       "      <td>Data from: Evolution of a dominant natural iso...</td>\n",
       "      <td>2019-02-02</td>\n",
       "      <td>10.5061/dryad.v5374</td>\n",
       "      <td>CC0-1.0</td>\n",
       "      <td>human gut,replication rate,plasmid,mutation rate</td>\n",
       "    </tr>\n",
       "    <tr>\n",
       "      <th>1</th>\n",
       "      <td>5547311</td>\n",
       "      <td>Energetic return on investment determines over...</td>\n",
       "      <td>2021-10-04</td>\n",
       "      <td>10.5281/zenodo.5547311</td>\n",
       "      <td>CC-BY-4.0</td>\n",
       "      <td>soil,microorganisms,microbial activity,organic...</td>\n",
       "    </tr>\n",
       "    <tr>\n",
       "      <th>27</th>\n",
       "      <td>4319024</td>\n",
       "      <td>Example Datasets for Iliski - Neuronal calcium...</td>\n",
       "      <td>2019-09-11</td>\n",
       "      <td>10.5281/zenodo.4319024</td>\n",
       "      <td>CC-BY-4.0</td>\n",
       "      <td>neurovascular coupling,functional ultrasound,t...</td>\n",
       "    </tr>\n",
       "    <tr>\n",
       "      <th>8</th>\n",
       "      <td>5007851</td>\n",
       "      <td>Data from: Should the WHO growth charts be use...</td>\n",
       "      <td>2016-02-19</td>\n",
       "      <td>10.5061/dryad.8s96r</td>\n",
       "      <td>CC0-1.0</td>\n",
       "      <td>French references,Growth monitoring,children,W...</td>\n",
       "    </tr>\n",
       "  </tbody>\n",
       "</table>\n",
       "</div>"
      ],
      "text/plain": [
       "         id                                              title  \\\n",
       "64    14595  MD simulation trajectory and related files for...   \n",
       "22  4946518  Data from: Developmental venous anomaly in dif...   \n",
       "56    46479                 Benchmark of the SAXS Merge method   \n",
       "24  4900655                                        Mobiliscope   \n",
       "26  4540395  Dataset related to article \"Cutaneous barrier ...   \n",
       "20  4954332  Data from: The loci of repeated evolution: a c...   \n",
       "4   5089991  Data from: Evolution of a dominant natural iso...   \n",
       "1   5547311  Energetic return on investment determines over...   \n",
       "27  4319024  Example Datasets for Iliski - Neuronal calcium...   \n",
       "8   5007851  Data from: Should the WHO growth charts be use...   \n",
       "\n",
       "   publication_date                     doi    license  \\\n",
       "64       2015-01-27    10.5281/zenodo.14595    GPL-3.0   \n",
       "22       2019-09-06   10.5061/dryad.ps00rd5    CC0-1.0   \n",
       "56       2013-12-14    10.5281/zenodo.46479   LGPL-2.1   \n",
       "24       2021-05-28  10.5281/zenodo.4900655  CC-BY-4.0   \n",
       "26       2021-02-14  10.5281/zenodo.4540395        NaN   \n",
       "20       2013-02-04     10.5061/dryad.v66p0    CC0-1.0   \n",
       "4        2019-02-02     10.5061/dryad.v5374    CC0-1.0   \n",
       "1        2021-10-04  10.5281/zenodo.5547311  CC-BY-4.0   \n",
       "27       2019-09-11  10.5281/zenodo.4319024  CC-BY-4.0   \n",
       "8        2016-02-19     10.5061/dryad.8s96r    CC0-1.0   \n",
       "\n",
       "                                             keywords  \n",
       "64                                                NaN  \n",
       "22  MRI,Primary brain tumor,Other cerebrovascular ...  \n",
       "56  Integrative Modeling Platform (IMP),Benchmark,...  \n",
       "24  social inequalities; segregation; daily mobili...  \n",
       "26  LPS,RAG,T cells,chemokines,cytokines,dysbiosis...  \n",
       "20          Mutations,Eukaryota,Evolutionary genomics  \n",
       "4    human gut,replication rate,plasmid,mutation rate  \n",
       "1   soil,microorganisms,microbial activity,organic...  \n",
       "27  neurovascular coupling,functional ultrasound,t...  \n",
       "8   French references,Growth monitoring,children,W...  "
      ]
     },
     "execution_count": 13,
     "metadata": {},
     "output_type": "execute_result"
    }
   ],
   "source": [
    "df.sample(10)"
   ]
  },
  {
   "cell_type": "code",
   "execution_count": null,
   "id": "d5296e17",
   "metadata": {},
   "outputs": [],
   "source": [
    "df.to_csv(\"data_from_zenodo.csv\", index = False)"
   ]
  },
  {
   "cell_type": "markdown",
   "id": "3cc7e206",
   "metadata": {},
   "source": [
    "----\n",
    "## Vigilance"
   ]
  },
  {
   "cell_type": "markdown",
   "id": "a67307eb",
   "metadata": {},
   "source": [
    "* la recherche dans l'affiliation se fait pour tous les auteurs (comme le wos) donc du bruit peut être présent en sortie\n",
    "\n",
    "* l'API donne les résultats avec un systeme de pagination. Vérifier à la fin de la réponse si `links` ne contient pas une url `next`"
   ]
  },
  {
   "cell_type": "code",
   "execution_count": null,
   "id": "df37b0eb",
   "metadata": {},
   "outputs": [],
   "source": []
  }
 ],
 "metadata": {
  "kernelspec": {
   "display_name": "Python 3",
   "language": "python",
   "name": "python3"
  },
  "language_info": {
   "codemirror_mode": {
    "name": "ipython",
    "version": 3
   },
   "file_extension": ".py",
   "mimetype": "text/x-python",
   "name": "python",
   "nbconvert_exporter": "python",
   "pygments_lexer": "ipython3",
   "version": "3.9.7"
  }
 },
 "nbformat": 4,
 "nbformat_minor": 5
}
