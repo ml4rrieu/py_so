{
 "cells": [
  {
   "cell_type": "markdown",
   "id": "c3c617b7",
   "metadata": {},
   "source": [
    "# Connaître le niveau de bruit de son établissement dans le référentiel structure"
   ]
  },
  {
   "cell_type": "markdown",
   "id": "016bc91a",
   "metadata": {},
   "source": [
    "- Définir théoriquement le niveau de bruit\n",
    "- Faire la requête pour avoir toutes les structures d'un établissement\n",
    "- Définir une fonction pour trouver nb de structure de l'établissement avec en argument un filtre sur l'état des structures recherchées\n",
    "- calculer niveau de bruit de votre établissement , pourcentage à une décimale\n",
    "\n",
    "memo : doc aurehal structure : [api.archives-ouvertes.fr/docs/ref/resource/structure](https://api.archives-ouvertes.fr/docs/ref/resource/structure)"
   ]
  },
  {
   "cell_type": "markdown",
   "id": "887d6aa4",
   "metadata": {},
   "source": [
    "## Définition niveau de bruit d'un étab. dans le ref. structure"
   ]
  },
  {
   "cell_type": "markdown",
   "id": "22aba72c",
   "metadata": {},
   "source": [
    "`niv_bruit (%) = struct_incoming / total_struct * 100`"
   ]
  },
  {
   "cell_type": "markdown",
   "id": "111745fd",
   "metadata": {},
   "source": [
    "## Nombre de structures de son établissement"
   ]
  },
  {
   "cell_type": "code",
   "execution_count": 2,
   "id": "89ec854c",
   "metadata": {},
   "outputs": [],
   "source": [
    "import requests, json"
   ]
  },
  {
   "cell_type": "code",
   "execution_count": 3,
   "id": "afc3d1af",
   "metadata": {},
   "outputs": [],
   "source": [
    "# l'identifiant de votre établissement (structId_i)\n",
    "#uvsq 81173, U orléans 300297, UP 557826, angers 74911\n",
    "structId = 557826"
   ]
  },
  {
   "cell_type": "code",
   "execution_count": 4,
   "id": "51e4c309",
   "metadata": {},
   "outputs": [
    {
     "data": {
      "text/plain": [
       "{'response': {'numFound': 534, 'start': 0, 'docs': []}}"
      ]
     },
     "execution_count": 4,
     "metadata": {},
     "output_type": "execute_result"
    }
   ],
   "source": [
    "req = requests.get(f\"https://api.archives-ouvertes.fr/ref/structure/?q=parentDocid_i:{structId}&rows=0\")\n",
    "req = req.json()\n",
    "req"
   ]
  },
  {
   "cell_type": "markdown",
   "id": "8d30e4f1",
   "metadata": {},
   "source": [
    "## Définir une fonction"
   ]
  },
  {
   "cell_type": "code",
   "execution_count": 5,
   "id": "e81b65d1",
   "metadata": {},
   "outputs": [],
   "source": [
    "def nb_struct(valid) : \n",
    "    req = requests.get(f\"https://api.archives-ouvertes.fr/ref/structure/?q=parentDocid_i:{structId}&fq=valid_s:{valid}&rows=0\")\n",
    "    req_json = req.json()\n",
    "    return req_json[\"response\"][\"numFound\"]"
   ]
  },
  {
   "cell_type": "code",
   "execution_count": null,
   "id": "376f2ead",
   "metadata": {
    "scrolled": false
   },
   "outputs": [],
   "source": [
    "#  * pour recueillir toutes les struct, indifféremment à leur type (VALID, INCOMMING)\n",
    "nb_struct(\"*\")"
   ]
  },
  {
   "cell_type": "markdown",
   "id": "c87e160b",
   "metadata": {},
   "source": [
    "## Calculer niveau de bruit de votre étab. dans le ref. structure"
   ]
  },
  {
   "cell_type": "code",
   "execution_count": 7,
   "id": "c3a7f865",
   "metadata": {},
   "outputs": [
    {
     "name": "stdout",
     "output_type": "stream",
     "text": [
      "niveau de bruit de l'établissement dans le referentiel structure de HAL 5.1 %\n"
     ]
    }
   ],
   "source": [
    "noise_dec = nb_struct(\"INCOMING\") / nb_struct(\"*\") * 100\n",
    "noise = round(noise_dec, 1)\n",
    "print(\"niveau de bruit de l'établissement dans le referentiel structure de HAL\", noise, \"%\")"
   ]
  },
  {
   "cell_type": "markdown",
   "id": "52b85a7a",
   "metadata": {},
   "source": [
    "----\n",
    "## Amélioration \n",
    "\n",
    "- Avoir le nombre de structure valide & incoming en une seule requête grâce aux facettes de l'API\n",
    "- retroactif : descendre dans chaque sous structure et récupérer nb structure incoming etc."
   ]
  }
 ],
 "metadata": {
  "kernelspec": {
   "display_name": "Python 3",
   "language": "python",
   "name": "python3"
  },
  "language_info": {
   "codemirror_mode": {
    "name": "ipython",
    "version": 3
   },
   "file_extension": ".py",
   "mimetype": "text/x-python",
   "name": "python",
   "nbconvert_exporter": "python",
   "pygments_lexer": "ipython3",
   "version": "3.9.7"
  }
 },
 "nbformat": 4,
 "nbformat_minor": 5
}
