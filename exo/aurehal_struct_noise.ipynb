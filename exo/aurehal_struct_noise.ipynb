{
 "cells": [
  {
   "cell_type": "markdown",
   "id": "c3c617b7",
   "metadata": {},
   "source": [
    "# Connaître le niveau de bruit de son établissement dans le référentiel structure"
   ]
  },
  {
   "cell_type": "markdown",
   "id": "016bc91a",
   "metadata": {},
   "source": [
    "- Définir théoriquement le niveau de bruit\n",
    "- Trouver nombre de struct valide de son établissement\n",
    "- Définir une fonction pour trouver nb de structure de l'établissement avec en argument un filtre sur l'état des structures recherchées\n",
    "- calculer niveau de bruit de votre étab. , pourcentage à une décimale\n",
    "\n",
    "memo : doc aurehal structure : [api.archives-ouvertes.fr/docs/ref/resource/structure](https://api.archives-ouvertes.fr/docs/ref/resource/structure)"
   ]
  },
  {
   "cell_type": "markdown",
   "id": "887d6aa4",
   "metadata": {},
   "source": [
    "## Définition niveau de bruit d'un étab. dans le ref. structure"
   ]
  },
  {
   "cell_type": "markdown",
   "id": "22aba72c",
   "metadata": {},
   "source": [
    "Comment calculer ce niveau de bruit ? <!-- niv_bruit % = struct_incoming / struct_valid * 100 -->"
   ]
  },
  {
   "cell_type": "markdown",
   "id": "111745fd",
   "metadata": {},
   "source": [
    "## Trouver le nombre de sturcture valide"
   ]
  },
  {
   "cell_type": "code",
   "execution_count": 2,
   "id": "89ec854c",
   "metadata": {},
   "outputs": [],
   "source": [
    "import requests, json"
   ]
  },
  {
   "cell_type": "code",
   "execution_count": 24,
   "id": "afc3d1af",
   "metadata": {},
   "outputs": [],
   "source": [
    "#uvsq 81173, U orléans 300297, UP 557826\n",
    "structId = 557826"
   ]
  },
  {
   "cell_type": "markdown",
   "id": "8d30e4f1",
   "metadata": {},
   "source": [
    "## Définir une fonction"
   ]
  },
  {
   "cell_type": "code",
   "execution_count": null,
   "id": "aa64acf0",
   "metadata": {},
   "outputs": [],
   "source": []
  },
  {
   "cell_type": "markdown",
   "id": "c87e160b",
   "metadata": {},
   "source": [
    "## Calculer niveau de bruit de votre étab. dans le ref. structure"
   ]
  },
  {
   "cell_type": "code",
   "execution_count": null,
   "id": "1f345a06",
   "metadata": {},
   "outputs": [],
   "source": []
  },
  {
   "cell_type": "markdown",
   "id": "52b85a7a",
   "metadata": {},
   "source": [
    "----\n",
    "## Amélioration \n",
    "\n",
    "Avoir le nombre de structure valide & incoming en une seule requête grâce aux facettes de l'API ? "
   ]
  },
  {
   "cell_type": "code",
   "execution_count": null,
   "id": "47b5e7a7",
   "metadata": {},
   "outputs": [],
   "source": []
  }
 ],
 "metadata": {
  "kernelspec": {
   "display_name": "Python 3",
   "language": "python",
   "name": "python3"
  },
  "language_info": {
   "codemirror_mode": {
    "name": "ipython",
    "version": 3
   },
   "file_extension": ".py",
   "mimetype": "text/x-python",
   "name": "python",
   "nbconvert_exporter": "python",
   "pygments_lexer": "ipython3",
   "version": "3.9.7"
  }
 },
 "nbformat": 4,
 "nbformat_minor": 5
}
