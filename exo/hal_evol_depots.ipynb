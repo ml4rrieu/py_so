{
 "cells": [
  {
   "cell_type": "markdown",
   "id": "976d4c12",
   "metadata": {},
   "source": [
    "# Représenter l'évolution et les types de dépôts dans HAL d'une structure"
   ]
  },
  {
   "cell_type": "markdown",
   "id": "ac389c96",
   "metadata": {},
   "source": [
    "- extraire depuis HAL le nombre de publications d'une année d'une structure\n",
    "- créer une fonction avec en argument l'année\n",
    "- créer une boucle pour récupérer les données depuis l'API de HAL\n",
    "- placer les données dans un dictionnaire\n",
    "- le transformer en une dataframe (attention a `pd.DataFrame({\"col\":[data1, data2], \"col2\":[0, 1, 2, 3]})` )\n",
    "- faire une représentation en histogramme\n",
    "- reprendre l'exercice en intrégrant le type de dépot (file/notice) dans la fonction\n",
    "- créer une variable structId pour générer le graph. sur n'importe qu'elle structure\n"
   ]
  },
  {
   "cell_type": "code",
   "execution_count": null,
   "id": "f1961bec",
   "metadata": {},
   "outputs": [],
   "source": []
  }
 ],
 "metadata": {
  "kernelspec": {
   "display_name": "Python 3",
   "language": "python",
   "name": "python3"
  },
  "language_info": {
   "codemirror_mode": {
    "name": "ipython",
    "version": 3
   },
   "file_extension": ".py",
   "mimetype": "text/x-python",
   "name": "python",
   "nbconvert_exporter": "python",
   "pygments_lexer": "ipython3",
   "version": "3.9.7"
  }
 },
 "nbformat": 4,
 "nbformat_minor": 5
}
