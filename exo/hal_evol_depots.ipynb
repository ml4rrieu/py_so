{
 "cells": [
  {
   "cell_type": "markdown",
   "id": "976d4c12",
   "metadata": {},
   "source": [
    "# Représenter l'évolution et les types de dépôts dans HAL d'une structure"
   ]
  },
  {
   "cell_type": "markdown",
   "id": "ac389c96",
   "metadata": {},
   "source": [
    "- extraire depuis HAL le nombre de publications d'une année d'une structure de recherche\n",
    "- créer une fonction avec en argument l'année\n",
    "- créer une boucle pour récupérer les données depuis l'API de HAL\n",
    "- placer les données dans un dictionnaire\n",
    "- le transformer en une dataframe (attention a `pd.DataFrame({\"col\":[data1, data2], \"col2\":[0, 1, 2, 3]})` )\n",
    "- faire une représentation en histogramme\n",
    "- reprendre l'exercice en intrégrant le type de dépot (file/notice) dans la fonction\n",
    "- créer une variable `structId` pour générer le graph. sur n'importe qu'elle structure\n"
   ]
  },
  {
   "cell_type": "code",
   "execution_count": 2,
   "id": "f1961bec",
   "metadata": {},
   "outputs": [],
   "source": [
    "import requests, json"
   ]
  },
  {
   "cell_type": "markdown",
   "id": "91547848",
   "metadata": {},
   "source": [
    "##  Extraire depuis HAL le nombre de publications d'une année d'une structure"
   ]
  },
  {
   "cell_type": "code",
   "execution_count": null,
   "id": "b4665fa8",
   "metadata": {},
   "outputs": [],
   "source": []
  },
  {
   "cell_type": "markdown",
   "id": "b56d6420",
   "metadata": {},
   "source": [
    "## Créer une fonction avec en argument l'année"
   ]
  },
  {
   "cell_type": "code",
   "execution_count": null,
   "id": "d3f3870a",
   "metadata": {},
   "outputs": [],
   "source": []
  },
  {
   "cell_type": "markdown",
   "id": "7fb67ecf",
   "metadata": {},
   "source": [
    "## Créer une boucle pour récupérer les données depuis l'API de "
   ]
  },
  {
   "cell_type": "code",
   "execution_count": null,
   "id": "061e766d",
   "metadata": {},
   "outputs": [],
   "source": []
  },
  {
   "cell_type": "markdown",
   "id": "b5eef0a9",
   "metadata": {},
   "source": [
    "## Placer les données dans un dictionnaire"
   ]
  },
  {
   "cell_type": "code",
   "execution_count": null,
   "id": "8e998555",
   "metadata": {},
   "outputs": [],
   "source": []
  },
  {
   "cell_type": "markdown",
   "id": "3661da9e",
   "metadata": {},
   "source": [
    "## Placer les données dans une dataframe"
   ]
  },
  {
   "cell_type": "code",
   "execution_count": 13,
   "id": "bd9cffd1",
   "metadata": {},
   "outputs": [],
   "source": [
    "import pandas as pd"
   ]
  },
  {
   "cell_type": "markdown",
   "id": "550973a6",
   "metadata": {},
   "source": [
    "## Faire une représentation en histogramme"
   ]
  },
  {
   "cell_type": "code",
   "execution_count": null,
   "id": "5974df8d",
   "metadata": {},
   "outputs": [],
   "source": []
  },
  {
   "cell_type": "markdown",
   "id": "29823008",
   "metadata": {},
   "source": [
    "## Reprendre l'exercice en intrégrant le type de dépôt (file/notice) dans la fonction"
   ]
  },
  {
   "cell_type": "code",
   "execution_count": null,
   "id": "e80e8748",
   "metadata": {},
   "outputs": [],
   "source": []
  }
 ],
 "metadata": {
  "kernelspec": {
   "display_name": "Python 3",
   "language": "python",
   "name": "python3"
  },
  "language_info": {
   "codemirror_mode": {
    "name": "ipython",
    "version": 3
   },
   "file_extension": ".py",
   "mimetype": "text/x-python",
   "name": "python",
   "nbconvert_exporter": "python",
   "pygments_lexer": "ipython3",
   "version": "3.9.7"
  }
 },
 "nbformat": 4,
 "nbformat_minor": 5
}
