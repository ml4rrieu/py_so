{
 "cells": [
  {
   "cell_type": "markdown",
   "id": "c3c07384",
   "metadata": {},
   "source": [
    "# Identifier dans HAL les publications issues des projets de recherche qui ne sont pas en accès ouvert"
   ]
  },
  {
   "cell_type": "markdown",
   "id": "8c98b1ae",
   "metadata": {},
   "source": [
    "- extraire depuis HAL le nombre de publications d'une institution issues de projets ANR\n",
    "- extraire le nombre de ces publications qui ne sont pas en accès ouvert\n",
    "- calculer le pourcentage que cela représente\n",
    "- extraire la liste de ces publications avec les données : année de publication, doctype, url, titre, type de dépôt\n",
    "- produire un tableau de ces publications afin de les traiter\n",
    "- exporter en .csv"
   ]
  },
  {
   "cell_type": "markdown",
   "id": "f51671b0",
   "metadata": {},
   "source": [
    "## Nombre de publications dans HAL d'un étab. issues de projets ANR "
   ]
  },
  {
   "cell_type": "code",
   "execution_count": null,
   "id": "66c92bb9",
   "metadata": {},
   "outputs": [],
   "source": []
  },
  {
   "cell_type": "markdown",
   "id": "8e7db227",
   "metadata": {},
   "source": [
    "## Nombre de publications projet ANR sans OA"
   ]
  },
  {
   "cell_type": "code",
   "execution_count": null,
   "id": "4be90db9",
   "metadata": {},
   "outputs": [],
   "source": []
  },
  {
   "cell_type": "markdown",
   "id": "ff3ee222",
   "metadata": {},
   "source": [
    "## Déduire le pourcentage de publication à ouvrir"
   ]
  },
  {
   "cell_type": "code",
   "execution_count": null,
   "id": "d6bf7c42",
   "metadata": {},
   "outputs": [],
   "source": []
  },
  {
   "cell_type": "markdown",
   "id": "51e7eb7f",
   "metadata": {},
   "source": [
    "## Extraire la liste de ces publications à traiter"
   ]
  },
  {
   "cell_type": "code",
   "execution_count": null,
   "id": "d9ba4b15",
   "metadata": {},
   "outputs": [],
   "source": []
  },
  {
   "cell_type": "markdown",
   "id": "e963ce62",
   "metadata": {},
   "source": [
    "## Produire un tableau des publications"
   ]
  },
  {
   "cell_type": "code",
   "execution_count": null,
   "id": "001c2a37",
   "metadata": {},
   "outputs": [],
   "source": []
  },
  {
   "cell_type": "markdown",
   "id": "750383bb",
   "metadata": {},
   "source": [
    "----\n",
    "\n",
    "## Discussion\n",
    "\n",
    "Quelles sont les limites ? \n",
    "\n",
    "Comment améliorer l'identification ? "
   ]
  },
  {
   "cell_type": "code",
   "execution_count": null,
   "id": "20a48a89",
   "metadata": {},
   "outputs": [],
   "source": []
  }
 ],
 "metadata": {
  "kernelspec": {
   "display_name": "Python 3",
   "language": "python",
   "name": "python3"
  },
  "language_info": {
   "codemirror_mode": {
    "name": "ipython",
    "version": 3
   },
   "file_extension": ".py",
   "mimetype": "text/x-python",
   "name": "python",
   "nbconvert_exporter": "python",
   "pygments_lexer": "ipython3",
   "version": "3.9.7"
  }
 },
 "nbformat": 4,
 "nbformat_minor": 5
}
