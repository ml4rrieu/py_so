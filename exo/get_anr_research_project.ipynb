{
 "cells": [
  {
   "cell_type": "markdown",
   "id": "c3c07384",
   "metadata": {},
   "source": [
    "# Récupérer les projets de recherche ANR portés par son établissememnt\n",
    "**A l'aide des identifiants RNSR**"
   ]
  },
  {
   "cell_type": "markdown",
   "id": "8c98b1ae",
   "metadata": {},
   "source": [
    "0. télécharger les jeux de données\n",
    "\n",
    "\n",
    "1. importer les données des partenaires, comprendre le schéma de données\n",
    "\n",
    "\n",
    "2. récupérer les RNSRs de son établissement via l'API de AureHAL Structure\n",
    "    - comprendre l'API AureHAL Structure\n",
    "    - quel champs utiliser pour identifier les sous structures de son étab. ? \n",
    "    - extraire un tableau de vos structures avec les donénes docid,name_s,type_s,valid_s,rnsr_s\n",
    "    - _à la main_ renseigner dans AureHAL les RNSRs manquants\n",
    "    - placer les RNSRs dans une liste\n",
    "    - nettoyer les données\n",
    "   \n",
    "   \n",
    "3. filtrer les données ANR des partenaires avec les RNSR récoltés\n",
    "    - exporter un csv"
   ]
  },
  {
   "cell_type": "markdown",
   "id": "da8116a0",
   "metadata": {},
   "source": [
    "----\n",
    "\n",
    "\n",
    "## 0. télécharger les jeux de données\n",
    "[https://www.data.gouv.fr/en/datasets/anr-01-projets-anr-dos-detail-des-projets-et-des-partenaires/](https://www.data.gouv.fr/en/datasets/anr-01-projets-anr-dos-detail-des-projets-et-des-partenaires/)\n",
    "\n",
    "attention le schéma de données peut évoluer"
   ]
  },
  {
   "cell_type": "markdown",
   "id": "3b76c8d1",
   "metadata": {},
   "source": [
    "## 1. importer les données des partenaires"
   ]
  },
  {
   "cell_type": "code",
   "execution_count": null,
   "id": "ae35852f",
   "metadata": {},
   "outputs": [],
   "source": []
  },
  {
   "cell_type": "markdown",
   "id": "f6bfa954",
   "metadata": {},
   "source": [
    "## 2. Récupérer les RNSRs de son établissement via l'API de AureHAL Structure"
   ]
  },
  {
   "cell_type": "code",
   "execution_count": null,
   "id": "dee73415",
   "metadata": {},
   "outputs": [],
   "source": [
    "# documentation https://api.archives-ouvertes.fr/docs"
   ]
  },
  {
   "cell_type": "markdown",
   "id": "13126f7c",
   "metadata": {},
   "source": [
    "## 3. Filtrer les données ANR des partenaires avec les RNSR récoltés"
   ]
  },
  {
   "cell_type": "code",
   "execution_count": null,
   "id": "4a7118c0",
   "metadata": {},
   "outputs": [],
   "source": []
  },
  {
   "cell_type": "markdown",
   "id": "02275664",
   "metadata": {},
   "source": [
    "----\n",
    "\n",
    "## Discussion\n",
    "\n",
    "Maintenant que vous avez identifié vos projets, que pouvez-faire pour développer la science ouverte ? \n",
    "\n",
    "(au moins 5 possibilités ai-je eu en tête)"
   ]
  },
  {
   "cell_type": "markdown",
   "id": "fbc1aa2d",
   "metadata": {},
   "source": [
    "---\n",
    "\n",
    "## Extra : compléter par une recherche sur le nom de l'étab.\n",
    "- identifier les proejts de recherche avec le nom d'un étab.\n",
    "- ajouter les projets qui n'étaient pas déjà présents avec l'identification par RNSR"
   ]
  },
  {
   "cell_type": "code",
   "execution_count": null,
   "id": "da206816",
   "metadata": {},
   "outputs": [],
   "source": []
  }
 ],
 "metadata": {
  "kernelspec": {
   "display_name": "Python 3",
   "language": "python",
   "name": "python3"
  },
  "language_info": {
   "codemirror_mode": {
    "name": "ipython",
    "version": 3
   },
   "file_extension": ".py",
   "mimetype": "text/x-python",
   "name": "python",
   "nbconvert_exporter": "python",
   "pygments_lexer": "ipython3",
   "version": "3.9.7"
  }
 },
 "nbformat": 4,
 "nbformat_minor": 5
}
