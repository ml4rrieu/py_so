{
 "cells": [
  {
   "cell_type": "markdown",
   "id": "2457d7ad",
   "metadata": {},
   "source": [
    "# Former un tableau des structures non valides avec le nombre de documents associés"
   ]
  },
  {
   "cell_type": "markdown",
   "id": "1d0184c7",
   "metadata": {},
   "source": [
    "- Récupérer la liste des structures non valides\n",
    "- La transformer en tableau (dataframe)\n",
    "- Renommer les colonnes : `structId, label`\n",
    "- Définir une fonction pour récupérer à partir du `structId` le nb de publications\n",
    "- Ajouter la colonne nombre de documents\n",
    "- Ajouter une colonne de liens vers la structure dans Aurehal\n",
    "- Trier le tableau par ordre décroissant de nombre de documents\n",
    "- Extraire le tableau"
   ]
  },
  {
   "cell_type": "code",
   "execution_count": null,
   "id": "94106d2e",
   "metadata": {},
   "outputs": [],
   "source": [
    "import requests, json\n",
    "#uvsq 81173, U orléans 300297, UP 557826, angers 74911\n",
    "structId = 557826"
   ]
  },
  {
   "cell_type": "markdown",
   "id": "bb208493",
   "metadata": {},
   "source": [
    "## Transformer la liste en tableau"
   ]
  },
  {
   "cell_type": "code",
   "execution_count": null,
   "id": "05a44b4a",
   "metadata": {},
   "outputs": [],
   "source": []
  },
  {
   "cell_type": "markdown",
   "id": "0ba4e20c",
   "metadata": {},
   "source": [
    "## Definir fonction pour récupérer à partir du structId le nb de publication"
   ]
  },
  {
   "cell_type": "code",
   "execution_count": null,
   "id": "04364bb2",
   "metadata": {},
   "outputs": [],
   "source": []
  },
  {
   "cell_type": "markdown",
   "id": "35cc55a2",
   "metadata": {},
   "source": [
    "## Ajouter la colonne nombre de documents"
   ]
  },
  {
   "cell_type": "code",
   "execution_count": null,
   "id": "0e3f08fb",
   "metadata": {},
   "outputs": [],
   "source": []
  },
  {
   "cell_type": "markdown",
   "id": "852501d8",
   "metadata": {},
   "source": [
    "##  Ajouter une colonne de liens vers la structure dans Aurehal"
   ]
  },
  {
   "cell_type": "code",
   "execution_count": null,
   "id": "3a5a2100",
   "metadata": {},
   "outputs": [],
   "source": []
  },
  {
   "cell_type": "markdown",
   "id": "695e36c3",
   "metadata": {},
   "source": [
    "## Trier le tableau par ordre decroissant du nombre de documents"
   ]
  },
  {
   "cell_type": "code",
   "execution_count": null,
   "id": "a4a975a2",
   "metadata": {},
   "outputs": [],
   "source": []
  },
  {
   "cell_type": "code",
   "execution_count": null,
   "id": "959aac43",
   "metadata": {},
   "outputs": [],
   "source": [
    "#exporter au format .csv"
   ]
  },
  {
   "cell_type": "markdown",
   "id": "88d07d7a",
   "metadata": {},
   "source": [
    "----\n",
    "## Allez plus loin\n",
    "\n",
    "Ajouter une colonne \"last update structure\" (champs `updateDate_s` de l'API)"
   ]
  },
  {
   "cell_type": "code",
   "execution_count": null,
   "id": "5a79ba74",
   "metadata": {},
   "outputs": [],
   "source": []
  }
 ],
 "metadata": {
  "kernelspec": {
   "display_name": "Python 3",
   "language": "python",
   "name": "python3"
  },
  "language_info": {
   "codemirror_mode": {
    "name": "ipython",
    "version": 3
   },
   "file_extension": ".py",
   "mimetype": "text/x-python",
   "name": "python",
   "nbconvert_exporter": "python",
   "pygments_lexer": "ipython3",
   "version": "3.9.7"
  }
 },
 "nbformat": 4,
 "nbformat_minor": 5
}
