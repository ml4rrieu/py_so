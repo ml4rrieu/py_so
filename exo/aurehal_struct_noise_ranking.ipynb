{
 "cells": [
  {
   "cell_type": "markdown",
   "id": "1d73a672",
   "metadata": {},
   "source": [
    "# Effectuer un classement des établissements selon leur niveau de bruit dans le référentiel Structure"
   ]
  },
  {
   "cell_type": "markdown",
   "id": "9df34ed8",
   "metadata": {},
   "source": [
    "objectif : produire un tableau avec les colonnes suivantes : nom de portail, nb structure, % de bruit\n",
    "\n",
    "- obtenir un tableau de tous les portails\n",
    "- réduire aux portails institutionnels\n",
    "- trouver les structId des portails identifiés\n",
    "    - explorer l'API AureHal Structure pour avoir l'id des établissements à partir d'une requête par nom\n",
    "    - créer une fonction qui donne à partir du nom de l'établissement leur id\n",
    "    - ajouter au tableau des établissements une colonne avec leur id\n",
    "- pour chaque portail identifié extraire nb structure valide, non valide, % bruit \n",
    "    - créer une fonction qui donne : nb structure valide et non valide à partir d'un structId\n",
    "    - ajouter les champs nb_struct_valid et nb_struct_no_valid au tableau des établissements\n",
    "- calculer le pourcetange de bruit et l'intégrer au tableau\n",
    "- retirer les etab où nous n'avons pas de structure valide, trier par noise en décroissant"
   ]
  },
  {
   "cell_type": "markdown",
   "id": "afe59a66",
   "metadata": {},
   "source": [
    "## Obtenir la liste des portails HAL"
   ]
  },
  {
   "cell_type": "code",
   "execution_count": 24,
   "id": "d65c8b51",
   "metadata": {},
   "outputs": [],
   "source": [
    "import pandas as pd, json, requests"
   ]
  },
  {
   "cell_type": "code",
   "execution_count": 25,
   "id": "cc15f657",
   "metadata": {},
   "outputs": [],
   "source": [
    "# la doc du referentiel des portails : https://api.archives-ouvertes.fr/docs/ref/resource/instance"
   ]
  },
  {
   "cell_type": "markdown",
   "id": "245e02a2",
   "metadata": {},
   "source": [
    "## Réduire aux protails institutionnels"
   ]
  },
  {
   "cell_type": "code",
   "execution_count": null,
   "id": "595c3118",
   "metadata": {},
   "outputs": [],
   "source": []
  },
  {
   "cell_type": "markdown",
   "id": "3ef40e11",
   "metadata": {},
   "source": [
    "## Trouver les structId des portails identifiés"
   ]
  },
  {
   "cell_type": "code",
   "execution_count": 31,
   "id": "fa5f68a3",
   "metadata": {},
   "outputs": [],
   "source": [
    "# documentation référentiel structure https://api.archives-ouvertes.fr/docs/ref/?resource=structure&schema=fields#fields"
   ]
  },
  {
   "cell_type": "code",
   "execution_count": 119,
   "id": "09ef3b30",
   "metadata": {},
   "outputs": [],
   "source": [
    "# calculer taux de détection de structId de porail"
   ]
  },
  {
   "cell_type": "markdown",
   "id": "f7dd6cd1",
   "metadata": {},
   "source": [
    "## Créer une fonction qui donne : nb structures valides et non valides à partir d'un structId"
   ]
  },
  {
   "cell_type": "code",
   "execution_count": 122,
   "id": "20bca4d6",
   "metadata": {},
   "outputs": [
    {
     "data": {
      "text/plain": [
       "28"
      ]
     },
     "execution_count": 122,
     "metadata": {},
     "output_type": "execute_result"
    }
   ],
   "source": [
    "# test de la foncion\n",
    "get_struct_nb(172265,\"INCOMING\")"
   ]
  },
  {
   "cell_type": "markdown",
   "id": "ccb980f0",
   "metadata": {},
   "source": [
    "## Ajouter les champs \"nb structures valides\" et \"nb structures non valides\" au tableau des établissements"
   ]
  },
  {
   "cell_type": "code",
   "execution_count": null,
   "id": "eef599ab",
   "metadata": {},
   "outputs": [],
   "source": []
  },
  {
   "cell_type": "markdown",
   "id": "61261db6",
   "metadata": {},
   "source": [
    "## Calculer le pourcentage de bruit et l'intégrer au tableau"
   ]
  },
  {
   "cell_type": "code",
   "execution_count": null,
   "id": "706a65d4",
   "metadata": {},
   "outputs": [],
   "source": []
  },
  {
   "cell_type": "markdown",
   "id": "799dc0e3",
   "metadata": {},
   "source": [
    "---\n",
    "Allez plus loin : \n",
    "    \n",
    "* améliorer le matching nom de portail <-> structId\n",
    "* utiliser directement l'API structure sans passer par la liste de portails pour faire un classement des institutions FR\n",
    "* ajouter des iterations : recherches les \"structures rouges\" non plus au niveau de la structure parente, mais dans toute les structures filles."
   ]
  },
  {
   "cell_type": "code",
   "execution_count": null,
   "id": "bd130be1",
   "metadata": {},
   "outputs": [],
   "source": []
  }
 ],
 "metadata": {
  "kernelspec": {
   "display_name": "Python 3",
   "language": "python",
   "name": "python3"
  },
  "language_info": {
   "codemirror_mode": {
    "name": "ipython",
    "version": 3
   },
   "file_extension": ".py",
   "mimetype": "text/x-python",
   "name": "python",
   "nbconvert_exporter": "python",
   "pygments_lexer": "ipython3",
   "version": "3.9.7"
  }
 },
 "nbformat": 4,
 "nbformat_minor": 5
}
